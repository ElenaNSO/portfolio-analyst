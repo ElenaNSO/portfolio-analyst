{
 "cells": [
  {
   "cell_type": "markdown",
   "id": "2b1e7fee",
   "metadata": {},
   "source": [
    "# Практическое задание № 3"
   ]
  },
  {
   "cell_type": "markdown",
   "id": "443feab0",
   "metadata": {},
   "source": [
    "**Задание:** Осуществите сбор данных по товарам. \n",
    "\n",
    "- **Шаг 1.** Импортируйте библиотеки. Подключите источник данных http://books.toscrape.com/catalogue/page-1.html\n",
    "\n",
    "- **Шаг 2.** С помощью библиотеки BeautifulSoup найдите HTML теги, в которых находится информация по товарам (Название книги, цена).  \n",
    "    * Алгоритм парсинга используйте html.parser.\n",
    "    * Извлечь данные из 5ти страниц \n",
    "\n",
    "- **Шаг 3.** Выведите результат в DataFarme (пример в таблице): \n",
    "\n",
    "Название книги | цена \n",
    "--|--\n",
    "A Light in the ...\t| £51.77\n",
    "Tipping the Velvet\t| £53.74\n",
    "Soumission\t| £50.10\n",
    "Sharp Objects\t| £47.82\n",
    "\n",
    "- **Шаг 4.** Сохраните DataFarme в файл csv.\n",
    "\n",
    "- **Шаг 5.** Опубликуйте файл ipynb с решением данного задания, прикрепив его в этом задании на платформу Один."
   ]
  },
  {
   "cell_type": "code",
   "execution_count": 1,
   "id": "897b235e",
   "metadata": {},
   "outputs": [
    {
     "name": "stdout",
     "output_type": "stream",
     "text": [
      "1.20.1\n",
      "1.2.4\n",
      "2.25.1\n",
      "2.2.1\n"
     ]
    }
   ],
   "source": [
    "import requests\n",
    "import numpy as np\n",
    "import pandas as pd\n",
    "from bs4 import BeautifulSoup\n",
    "import datetime as dt \n",
    "import csv\n",
    "import re\n",
    "import string\n",
    "from urllib.request import urlopen\n",
    "from urllib.error import HTTPError\n",
    "\n",
    "print (np.__version__)\n",
    "print (pd.__version__)\n",
    "print (requests.__version__)\n",
    "print (re.__version__)"
   ]
  },
  {
   "cell_type": "code",
   "execution_count": 2,
   "id": "3413e572",
   "metadata": {},
   "outputs": [],
   "source": [
    "#создаю пустой словарь для сбора информации\n",
    "listPoducts = {'Название книги':[],'цена':[]}"
   ]
  },
  {
   "cell_type": "code",
   "execution_count": 4,
   "id": "38a6e35b",
   "metadata": {},
   "outputs": [
    {
     "name": "stdout",
     "output_type": "stream",
     "text": [
      "Ввести количество страниц: 2\n",
      "In Her Wake\n",
      "How Music Works\n",
      "Foolproof Preserving: A Guide to Small Batch Jams, Jellies, Pickles, Condiments, and More: A Foolproof Guide to Making Small Batch Jams, Jellies, Pickles, Condiments, and More\n",
      "Chase Me (Paris Nights #2)\n",
      "Black Dust\n",
      "Birdsong: A Story in Pictures\n",
      "America's Cradle of Quarterbacks: Western Pennsylvania's Football Factory from Johnny Unitas to Joe Montana\n",
      "Aladdin and His Wonderful Lamp\n",
      "Worlds Elsewhere: Journeys Around Shakespeareâs Globe\n",
      "Wall and Piece\n",
      "The Four Agreements: A Practical Guide to Personal Freedom\n",
      "The Five Love Languages: How to Express Heartfelt Commitment to Your Mate\n",
      "The Elephant Tree\n",
      "The Bear and the Piano\n",
      "Sophie's World\n",
      "Penny Maybe\n",
      "Maude (1883-1993):She Grew Up with the country\n",
      "In a Dark, Dark Wood\n",
      "Behind Closed Doors\n",
      "You can't bury them all: Poems\n",
      "A Light in the Attic\n",
      "Tipping the Velvet\n",
      "Soumission\n",
      "Sharp Objects\n",
      "Sapiens: A Brief History of Humankind\n",
      "The Requiem Red\n",
      "The Dirty Little Secrets of Getting Your Dream Job\n",
      "The Coming Woman: A Novel Based on the Life of the Infamous Feminist, Victoria Woodhull\n",
      "The Boys in the Boat: Nine Americans and Their Epic Quest for Gold at the 1936 Berlin Olympics\n",
      "The Black Maria\n",
      "Starving Hearts (Triangular Trade Trilogy, #1)\n",
      "Shakespeare's Sonnets\n",
      "Set Me Free\n",
      "Scott Pilgrim's Precious Little Life (Scott Pilgrim #1)\n",
      "Rip it Up and Start Again\n",
      "Our Band Could Be Your Life: Scenes from the American Indie Underground, 1981-1991\n",
      "Olio\n",
      "Mesaerion: The Best Science Fiction Stories 1800-1849\n",
      "Libertarianism for Beginners\n",
      "It's Only the Himalayas\n"
     ]
    }
   ],
   "source": [
    "#создаю функцию для обработки данных по странице \n",
    "def bookSearch(numberPage):\n",
    "    url = f'http://books.toscrape.com/catalogue/page-{numberPage}.html'\n",
    "    html = requests.get(url)\n",
    "    bs = BeautifulSoup(html.text,'html.parser')\n",
    "\n",
    "    for products in bs.find_all('li',{'class':'col-xs-6'}):\n",
    "        try:\n",
    "            print(products.h3.a.attrs['title'])\n",
    "            nameProduct = products.h3.a.attrs['title']\n",
    "            priceProdact = products.find('p',{'class':'price_color'}).get_text()\n",
    "            listPoducts['Название книги'].append(nameProduct)\n",
    "            listPoducts['цена'].append(priceProdact)\n",
    "        \n",
    "        except AttributeError:\n",
    "            print('')\n",
    "            \n",
    "#записываю количество страниц в переменную countP (это не соответствует заданию, но я хотела посмотреть разное количество)\n",
    "countP = int(input('Ввести количество страниц: '))\n",
    "\n",
    "# в цикле вызываю функцию и обрабатываю данные с записью в словарь listPoducts\n",
    "while countP > 0:\n",
    "    bookSearch(countP)\n",
    "    countP -= 1\n",
    "    \n",
    "# сохраняю в файле  booksSearch.csv   \n",
    "df = pd.DataFrame(listPoducts)\n",
    "df.to_csv('booksSearch.csv')    \n"
   ]
  },
  {
   "cell_type": "code",
   "execution_count": null,
   "id": "6e92206a",
   "metadata": {},
   "outputs": [],
   "source": []
  }
 ],
 "metadata": {
  "kernelspec": {
   "display_name": "Python 3",
   "language": "python",
   "name": "python3"
  },
  "language_info": {
   "codemirror_mode": {
    "name": "ipython",
    "version": 3
   },
   "file_extension": ".py",
   "mimetype": "text/x-python",
   "name": "python",
   "nbconvert_exporter": "python",
   "pygments_lexer": "ipython3",
   "version": "3.8.8"
  }
 },
 "nbformat": 4,
 "nbformat_minor": 5
}
