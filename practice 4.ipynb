{
 "cells": [
  {
   "cell_type": "markdown",
   "id": "413f8100",
   "metadata": {},
   "source": [
    "# Практическое задание № 4"
   ]
  },
  {
   "cell_type": "markdown",
   "id": "bb99cea6",
   "metadata": {},
   "source": [
    "Этапы выполнения: \n",
    "\n",
    "- **Шаг 1.** Импортировать библиотеки, загрузить содержимое файла, переименовать признаки:\n",
    "\n",
    "https://raw.githubusercontent.com/OlesiaAngel/DataAnalitics/main/%D0%B4%D0%B0%D0%BD%D0%BD%D1%8B%D0%B5/visualization/anketa_pr4.csv\n",
    "- **Шаг 2.** Выполнить токенизацию (используйте признаки про фильмы, ожидание от курса, виды спорта)\n",
    "- **Шаг 3.** Выполнить лемматизацию и удалить стоп-слова и знаки препинания (для признаков из шага 2)\n",
    "- **Шаг 4.** Выполнить подсчёт количества вхождений слов (для признаков из шага 2)\n",
    "- **Шаг 5.** Построить гистограмму по популярным видам спорта (20 видов), treepmap по фильмам (20 слов), облако слов из топ 50 слов по признаку ожидание от курса.  \n",
    "- **Шаг 6.** Опубликовать файл расширения ipynb на платформу Odin."
   ]
  },
  {
   "cell_type": "code",
   "execution_count": null,
   "id": "c6290297",
   "metadata": {},
   "outputs": [],
   "source": [
    "#Импортировать библиотеки, загрузить содержимое файла, переименовать признаки"
   ]
  },
  {
   "cell_type": "code",
   "execution_count": 1,
   "id": "b6585655",
   "metadata": {},
   "outputs": [],
   "source": [
    "import re\n",
    "import string\n",
    "import nltk # библиотека nltk\n",
    "from nltk.tokenize import word_tokenize # готовые токенизаторы библиотеки nltk\n",
    "from nltk.corpus import stopwords\n",
    "\n",
    "import seaborn as sns\n",
    "import matplotlib.pyplot as plt\n",
    "plt.rc('figure', figsize=(13, 10))\n",
    "\n",
    "import pandas as pd\n",
    "import numpy as np\n",
    "from PIL import Image\n",
    "import datetime as dt \n",
    "\n",
    "import plotly.express as px\n",
    "import plotly.graph_objects as go\n",
    "from plotly import subplots\n",
    "\n",
    "from pymorphy2 import MorphAnalyzer\n",
    "\n",
    "from collections import Counter\n",
    "from wordcloud import WordCloud\n",
    "\n",
    "import warnings\n",
    "warnings.simplefilter(\"ignore\")"
   ]
  },
  {
   "cell_type": "code",
   "execution_count": 17,
   "id": "84d576db",
   "metadata": {
    "scrolled": true
   },
   "outputs": [],
   "source": [
    "df = pd.read_csv('https://raw.githubusercontent.com/OlesiaAngel/DataAnalitics/main/%D0%B4%D0%B0%D0%BD%D0%BD%D1%8B%D0%B5/visualization/anketa_pr4.csv', \n",
    "                sep=';')"
   ]
  },
  {
   "cell_type": "code",
   "execution_count": 3,
   "id": "d07e0106",
   "metadata": {},
   "outputs": [
    {
     "data": {
      "text/html": [
       "<div>\n",
       "<style scoped>\n",
       "    .dataframe tbody tr th:only-of-type {\n",
       "        vertical-align: middle;\n",
       "    }\n",
       "\n",
       "    .dataframe tbody tr th {\n",
       "        vertical-align: top;\n",
       "    }\n",
       "\n",
       "    .dataframe thead th {\n",
       "        text-align: right;\n",
       "    }\n",
       "</style>\n",
       "<table border=\"1\" class=\"dataframe\">\n",
       "  <thead>\n",
       "    <tr style=\"text-align: right;\">\n",
       "      <th></th>\n",
       "      <th>id</th>\n",
       "      <th>Отметка времени</th>\n",
       "      <th>Какая у Вас операционная система на ПК?</th>\n",
       "      <th>С какими языками программирования знакомы?</th>\n",
       "      <th>Какой Ваш любимый вид спорта?</th>\n",
       "      <th>Посоветуйте хорошие фильмы</th>\n",
       "      <th>Что Вы ожидаете от курса?</th>\n",
       "      <th>Из какого Вы города?</th>\n",
       "    </tr>\n",
       "  </thead>\n",
       "  <tbody>\n",
       "    <tr>\n",
       "      <th>0</th>\n",
       "      <td>1</td>\n",
       "      <td>7.27.2022 18:20:10</td>\n",
       "      <td>Win</td>\n",
       "      <td>с программированием не знакома</td>\n",
       "      <td>бег с препятствиями по жизни</td>\n",
       "      <td>\"Гордость и предубеждение\",  \"Лунные влюблённы...</td>\n",
       "      <td>Научиться интересной профессии с возможностью ...</td>\n",
       "      <td>Севастополь</td>\n",
       "    </tr>\n",
       "    <tr>\n",
       "      <th>1</th>\n",
       "      <td>2</td>\n",
       "      <td>7.28.2022 23:23:42</td>\n",
       "      <td>Win</td>\n",
       "      <td>Delphi</td>\n",
       "      <td>Биатлон</td>\n",
       "      <td>Английский пациент. Облачный атлас. Призрачная...</td>\n",
       "      <td>Удовольствие от получения новых знаний</td>\n",
       "      <td>Москва</td>\n",
       "    </tr>\n",
       "    <tr>\n",
       "      <th>2</th>\n",
       "      <td>3</td>\n",
       "      <td>7.27.2022 17:13:20</td>\n",
       "      <td>Win</td>\n",
       "      <td>Python, Pascal / VB / Кумир / алгоритмический ...</td>\n",
       "      <td>шахматы</td>\n",
       "      <td>\"Начало\" Нолана, \"Меланхолия\" Л. фон Триера, \"...</td>\n",
       "      <td>Ожидаю, что выучусь на аналитика данных и полу...</td>\n",
       "      <td>Георгиевск</td>\n",
       "    </tr>\n",
       "    <tr>\n",
       "      <th>3</th>\n",
       "      <td>4</td>\n",
       "      <td>7.27.2022 17:16:58</td>\n",
       "      <td>MacOS</td>\n",
       "      <td>Pascal / VB / Кумир / алгоритмический язык</td>\n",
       "      <td>биатлон</td>\n",
       "      <td>1+1</td>\n",
       "      <td>новых знаний</td>\n",
       "      <td>Санкт-Петербург</td>\n",
       "    </tr>\n",
       "    <tr>\n",
       "      <th>4</th>\n",
       "      <td>5</td>\n",
       "      <td>7.30.2022 1:46:14</td>\n",
       "      <td>MacOS</td>\n",
       "      <td>Python</td>\n",
       "      <td>бадминтон</td>\n",
       "      <td>5 элемент</td>\n",
       "      <td>знаний</td>\n",
       "      <td>Ростов-на-Дону</td>\n",
       "    </tr>\n",
       "  </tbody>\n",
       "</table>\n",
       "</div>"
      ],
      "text/plain": [
       "   id     Отметка времени Какая у Вас операционная система на ПК?  \\\n",
       "0   1  7.27.2022 18:20:10                                     Win   \n",
       "1   2  7.28.2022 23:23:42                                     Win   \n",
       "2   3  7.27.2022 17:13:20                                     Win   \n",
       "3   4  7.27.2022 17:16:58                                   MacOS   \n",
       "4   5   7.30.2022 1:46:14                                   MacOS   \n",
       "\n",
       "         С какими языками программирования знакомы?   \\\n",
       "0                     с программированием не знакома   \n",
       "1                                             Delphi   \n",
       "2  Python, Pascal / VB / Кумир / алгоритмический ...   \n",
       "3         Pascal / VB / Кумир / алгоритмический язык   \n",
       "4                                             Python   \n",
       "\n",
       "  Какой Ваш любимый вид спорта?  \\\n",
       "0  бег с препятствиями по жизни   \n",
       "1                       Биатлон   \n",
       "2                       шахматы   \n",
       "3                       биатлон   \n",
       "4                     бадминтон   \n",
       "\n",
       "                          Посоветуйте хорошие фильмы  \\\n",
       "0  \"Гордость и предубеждение\",  \"Лунные влюблённы...   \n",
       "1  Английский пациент. Облачный атлас. Призрачная...   \n",
       "2  \"Начало\" Нолана, \"Меланхолия\" Л. фон Триера, \"...   \n",
       "3                                                1+1   \n",
       "4                                          5 элемент   \n",
       "\n",
       "                           Что Вы ожидаете от курса? Из какого Вы города?  \n",
       "0  Научиться интересной профессии с возможностью ...          Севастополь  \n",
       "1             Удовольствие от получения новых знаний               Москва  \n",
       "2  Ожидаю, что выучусь на аналитика данных и полу...           Георгиевск  \n",
       "3                                       новых знаний      Санкт-Петербург  \n",
       "4                                             знаний       Ростов-на-Дону  "
      ]
     },
     "execution_count": 3,
     "metadata": {},
     "output_type": "execute_result"
    }
   ],
   "source": [
    "df.head()"
   ]
  },
  {
   "cell_type": "code",
   "execution_count": 4,
   "id": "044b15e1",
   "metadata": {},
   "outputs": [
    {
     "name": "stdout",
     "output_type": "stream",
     "text": [
      "<class 'pandas.core.frame.DataFrame'>\n",
      "RangeIndex: 130 entries, 0 to 129\n",
      "Data columns (total 8 columns):\n",
      " #   Column                                       Non-Null Count  Dtype \n",
      "---  ------                                       --------------  ----- \n",
      " 0   id                                           130 non-null    int64 \n",
      " 1   Отметка времени                              130 non-null    object\n",
      " 2   Какая у Вас операционная система на ПК?      130 non-null    object\n",
      " 3   С какими языками программирования знакомы?   130 non-null    object\n",
      " 4   Какой Ваш любимый вид спорта?                130 non-null    object\n",
      " 5   Посоветуйте хорошие фильмы                   130 non-null    object\n",
      " 6   Что Вы ожидаете от курса?                    130 non-null    object\n",
      " 7   Из какого Вы города?                         130 non-null    object\n",
      "dtypes: int64(1), object(7)\n",
      "memory usage: 8.2+ KB\n"
     ]
    }
   ],
   "source": [
    "df.info()#нулевых значений нет"
   ]
  },
  {
   "cell_type": "code",
   "execution_count": 5,
   "id": "39fbdebd",
   "metadata": {},
   "outputs": [],
   "source": [
    "#создаю словарь новых имен признаков\n",
    "dict_new =dict(zip(df.columns,['id','timestamp','oc','programming_language','favorite_sport','good_film','expectation_of_course','city']))"
   ]
  },
  {
   "cell_type": "code",
   "execution_count": 6,
   "id": "6d7c3892",
   "metadata": {},
   "outputs": [
    {
     "data": {
      "text/html": [
       "<div>\n",
       "<style scoped>\n",
       "    .dataframe tbody tr th:only-of-type {\n",
       "        vertical-align: middle;\n",
       "    }\n",
       "\n",
       "    .dataframe tbody tr th {\n",
       "        vertical-align: top;\n",
       "    }\n",
       "\n",
       "    .dataframe thead th {\n",
       "        text-align: right;\n",
       "    }\n",
       "</style>\n",
       "<table border=\"1\" class=\"dataframe\">\n",
       "  <thead>\n",
       "    <tr style=\"text-align: right;\">\n",
       "      <th></th>\n",
       "      <th>id</th>\n",
       "      <th>timestamp</th>\n",
       "      <th>oc</th>\n",
       "      <th>programming_language</th>\n",
       "      <th>favorite_sport</th>\n",
       "      <th>good_film</th>\n",
       "      <th>expectation_of_course</th>\n",
       "      <th>city</th>\n",
       "    </tr>\n",
       "  </thead>\n",
       "  <tbody>\n",
       "    <tr>\n",
       "      <th>0</th>\n",
       "      <td>1</td>\n",
       "      <td>7.27.2022 18:20:10</td>\n",
       "      <td>Win</td>\n",
       "      <td>с программированием не знакома</td>\n",
       "      <td>бег с препятствиями по жизни</td>\n",
       "      <td>\"Гордость и предубеждение\",  \"Лунные влюблённы...</td>\n",
       "      <td>Научиться интересной профессии с возможностью ...</td>\n",
       "      <td>Севастополь</td>\n",
       "    </tr>\n",
       "    <tr>\n",
       "      <th>1</th>\n",
       "      <td>2</td>\n",
       "      <td>7.28.2022 23:23:42</td>\n",
       "      <td>Win</td>\n",
       "      <td>Delphi</td>\n",
       "      <td>Биатлон</td>\n",
       "      <td>Английский пациент. Облачный атлас. Призрачная...</td>\n",
       "      <td>Удовольствие от получения новых знаний</td>\n",
       "      <td>Москва</td>\n",
       "    </tr>\n",
       "    <tr>\n",
       "      <th>2</th>\n",
       "      <td>3</td>\n",
       "      <td>7.27.2022 17:13:20</td>\n",
       "      <td>Win</td>\n",
       "      <td>Python, Pascal / VB / Кумир / алгоритмический ...</td>\n",
       "      <td>шахматы</td>\n",
       "      <td>\"Начало\" Нолана, \"Меланхолия\" Л. фон Триера, \"...</td>\n",
       "      <td>Ожидаю, что выучусь на аналитика данных и полу...</td>\n",
       "      <td>Георгиевск</td>\n",
       "    </tr>\n",
       "    <tr>\n",
       "      <th>3</th>\n",
       "      <td>4</td>\n",
       "      <td>7.27.2022 17:16:58</td>\n",
       "      <td>MacOS</td>\n",
       "      <td>Pascal / VB / Кумир / алгоритмический язык</td>\n",
       "      <td>биатлон</td>\n",
       "      <td>1+1</td>\n",
       "      <td>новых знаний</td>\n",
       "      <td>Санкт-Петербург</td>\n",
       "    </tr>\n",
       "    <tr>\n",
       "      <th>4</th>\n",
       "      <td>5</td>\n",
       "      <td>7.30.2022 1:46:14</td>\n",
       "      <td>MacOS</td>\n",
       "      <td>Python</td>\n",
       "      <td>бадминтон</td>\n",
       "      <td>5 элемент</td>\n",
       "      <td>знаний</td>\n",
       "      <td>Ростов-на-Дону</td>\n",
       "    </tr>\n",
       "    <tr>\n",
       "      <th>...</th>\n",
       "      <td>...</td>\n",
       "      <td>...</td>\n",
       "      <td>...</td>\n",
       "      <td>...</td>\n",
       "      <td>...</td>\n",
       "      <td>...</td>\n",
       "      <td>...</td>\n",
       "      <td>...</td>\n",
       "    </tr>\n",
       "    <tr>\n",
       "      <th>125</th>\n",
       "      <td>126</td>\n",
       "      <td>8.13.2022 2:02:14</td>\n",
       "      <td>Win</td>\n",
       "      <td>Я не знаю ни одного языка программирования</td>\n",
       "      <td>Тренажеры, кардио - занимаюсь регулярно</td>\n",
       "      <td>Up in the Air</td>\n",
       "      <td>Ознакомление с навыками анализа данных, примен...</td>\n",
       "      <td>Санкт-Петербург</td>\n",
       "    </tr>\n",
       "    <tr>\n",
       "      <th>126</th>\n",
       "      <td>127</td>\n",
       "      <td>8.13.2022 16:42:28</td>\n",
       "      <td>Win</td>\n",
       "      <td>Я не знаю ни одного языка программирования</td>\n",
       "      <td>Легкая атлетика</td>\n",
       "      <td>Затерянный город</td>\n",
       "      <td>Получение знаний, трудоустройство</td>\n",
       "      <td>Татарск</td>\n",
       "    </tr>\n",
       "    <tr>\n",
       "      <th>127</th>\n",
       "      <td>128</td>\n",
       "      <td>8.14.2022 4:09:55</td>\n",
       "      <td>Win</td>\n",
       "      <td>Я не знаю ни одного языка программирования, из...</td>\n",
       "      <td>Волейбол</td>\n",
       "      <td>\"Сноуден\" 2016 г., \"Влюблённый богач\" 2020 г.,...</td>\n",
       "      <td>Хочу научиться работать с большим объемом данн...</td>\n",
       "      <td>Анапа</td>\n",
       "    </tr>\n",
       "    <tr>\n",
       "      <th>128</th>\n",
       "      <td>129</td>\n",
       "      <td>8.15.2022 11:36:19</td>\n",
       "      <td>Win</td>\n",
       "      <td>C / C++ / C#, Java</td>\n",
       "      <td>Теннис</td>\n",
       "      <td>Форд против Феррари</td>\n",
       "      <td>Практических навыков и знаний</td>\n",
       "      <td>Ульяновск</td>\n",
       "    </tr>\n",
       "    <tr>\n",
       "      <th>129</th>\n",
       "      <td>130</td>\n",
       "      <td>8.15.2022 21:32:18</td>\n",
       "      <td>Win</td>\n",
       "      <td>Python, Я не знаю ни одного языка программиров...</td>\n",
       "      <td>cs:go</td>\n",
       "      <td>человек-слон</td>\n",
       "      <td>умений</td>\n",
       "      <td>Воронеж</td>\n",
       "    </tr>\n",
       "  </tbody>\n",
       "</table>\n",
       "<p>130 rows × 8 columns</p>\n",
       "</div>"
      ],
      "text/plain": [
       "      id           timestamp     oc  \\\n",
       "0      1  7.27.2022 18:20:10    Win   \n",
       "1      2  7.28.2022 23:23:42    Win   \n",
       "2      3  7.27.2022 17:13:20    Win   \n",
       "3      4  7.27.2022 17:16:58  MacOS   \n",
       "4      5   7.30.2022 1:46:14  MacOS   \n",
       "..   ...                 ...    ...   \n",
       "125  126   8.13.2022 2:02:14    Win   \n",
       "126  127  8.13.2022 16:42:28    Win   \n",
       "127  128   8.14.2022 4:09:55    Win   \n",
       "128  129  8.15.2022 11:36:19    Win   \n",
       "129  130  8.15.2022 21:32:18    Win   \n",
       "\n",
       "                                  programming_language  \\\n",
       "0                       с программированием не знакома   \n",
       "1                                               Delphi   \n",
       "2    Python, Pascal / VB / Кумир / алгоритмический ...   \n",
       "3           Pascal / VB / Кумир / алгоритмический язык   \n",
       "4                                               Python   \n",
       "..                                                 ...   \n",
       "125         Я не знаю ни одного языка программирования   \n",
       "126         Я не знаю ни одного языка программирования   \n",
       "127  Я не знаю ни одного языка программирования, из...   \n",
       "128                                 C / C++ / C#, Java   \n",
       "129  Python, Я не знаю ни одного языка программиров...   \n",
       "\n",
       "                              favorite_sport  \\\n",
       "0               бег с препятствиями по жизни   \n",
       "1                                    Биатлон   \n",
       "2                                    шахматы   \n",
       "3                                    биатлон   \n",
       "4                                  бадминтон   \n",
       "..                                       ...   \n",
       "125  Тренажеры, кардио - занимаюсь регулярно   \n",
       "126                          Легкая атлетика   \n",
       "127                                 Волейбол   \n",
       "128                                   Теннис   \n",
       "129                                    cs:go   \n",
       "\n",
       "                                             good_film  \\\n",
       "0    \"Гордость и предубеждение\",  \"Лунные влюблённы...   \n",
       "1    Английский пациент. Облачный атлас. Призрачная...   \n",
       "2    \"Начало\" Нолана, \"Меланхолия\" Л. фон Триера, \"...   \n",
       "3                                                  1+1   \n",
       "4                                            5 элемент   \n",
       "..                                                 ...   \n",
       "125                                      Up in the Air   \n",
       "126                                   Затерянный город   \n",
       "127  \"Сноуден\" 2016 г., \"Влюблённый богач\" 2020 г.,...   \n",
       "128                               Форд против Феррари    \n",
       "129                                       человек-слон   \n",
       "\n",
       "                                 expectation_of_course             city  \n",
       "0    Научиться интересной профессии с возможностью ...      Севастополь  \n",
       "1               Удовольствие от получения новых знаний           Москва  \n",
       "2    Ожидаю, что выучусь на аналитика данных и полу...       Георгиевск  \n",
       "3                                         новых знаний  Санкт-Петербург  \n",
       "4                                               знаний   Ростов-на-Дону  \n",
       "..                                                 ...              ...  \n",
       "125  Ознакомление с навыками анализа данных, примен...  Санкт-Петербург  \n",
       "126                  Получение знаний, трудоустройство          Татарск  \n",
       "127  Хочу научиться работать с большим объемом данн...            Анапа  \n",
       "128                      Практических навыков и знаний       Ульяновск   \n",
       "129                                             умений          Воронеж  \n",
       "\n",
       "[130 rows x 8 columns]"
      ]
     },
     "execution_count": 6,
     "metadata": {},
     "output_type": "execute_result"
    }
   ],
   "source": [
    "df.rename(columns = dict_new, inplace = True)\n",
    "df"
   ]
  },
  {
   "cell_type": "code",
   "execution_count": null,
   "id": "9a19e8cd",
   "metadata": {},
   "outputs": [],
   "source": [
    "#Выполнить токенизацию (используйте признаки про фильмы, ожидание от курса, виды спорта)\n",
    "#Выполнить лемматизацию и удалить стоп-слова и знаки препинания (для признаков из шага 2)"
   ]
  },
  {
   "cell_type": "code",
   "execution_count": 7,
   "id": "35057d32",
   "metadata": {},
   "outputs": [
    {
     "name": "stderr",
     "output_type": "stream",
     "text": [
      "[nltk_data] Downloading package punkt to\n",
      "[nltk_data]     C:\\Users\\Елена\\AppData\\Roaming\\nltk_data...\n",
      "[nltk_data]   Package punkt is already up-to-date!\n",
      "[nltk_data] Downloading package stopwords to\n",
      "[nltk_data]     C:\\Users\\Елена\\AppData\\Roaming\\nltk_data...\n",
      "[nltk_data]   Package stopwords is already up-to-date!\n"
     ]
    },
    {
     "data": {
      "text/plain": [
       "True"
      ]
     },
     "execution_count": 7,
     "metadata": {},
     "output_type": "execute_result"
    }
   ],
   "source": [
    "nltk.download('punkt')\n",
    "nltk.download('stopwords')"
   ]
  },
  {
   "cell_type": "code",
   "execution_count": 25,
   "id": "75c1e20f",
   "metadata": {},
   "outputs": [],
   "source": [
    "#df.good_film.unique()"
   ]
  },
  {
   "cell_type": "code",
   "execution_count": 26,
   "id": "8df61ddc",
   "metadata": {},
   "outputs": [],
   "source": [
    "#df.expectation_of_course.unique()"
   ]
  },
  {
   "cell_type": "code",
   "execution_count": 18,
   "id": "1b405969",
   "metadata": {},
   "outputs": [
    {
     "ename": "AttributeError",
     "evalue": "'DataFrame' object has no attribute 'favorite_sport'",
     "output_type": "error",
     "traceback": [
      "\u001b[1;31m---------------------------------------------------------------------------\u001b[0m",
      "\u001b[1;31mAttributeError\u001b[0m                            Traceback (most recent call last)",
      "\u001b[1;32m<ipython-input-18-034db7aa1760>\u001b[0m in \u001b[0;36m<module>\u001b[1;34m\u001b[0m\n\u001b[1;32m----> 1\u001b[1;33m \u001b[0mdf\u001b[0m\u001b[1;33m.\u001b[0m\u001b[0mfavorite_sport\u001b[0m\u001b[1;33m.\u001b[0m\u001b[0munique\u001b[0m\u001b[1;33m(\u001b[0m\u001b[1;33m)\u001b[0m\u001b[1;33m\u001b[0m\u001b[1;33m\u001b[0m\u001b[0m\n\u001b[0m",
      "\u001b[1;32mD:\\Anaconda\\3-21-05\\lib\\site-packages\\pandas\\core\\generic.py\u001b[0m in \u001b[0;36m__getattr__\u001b[1;34m(self, name)\u001b[0m\n\u001b[0;32m   5463\u001b[0m             \u001b[1;32mif\u001b[0m \u001b[0mself\u001b[0m\u001b[1;33m.\u001b[0m\u001b[0m_info_axis\u001b[0m\u001b[1;33m.\u001b[0m\u001b[0m_can_hold_identifiers_and_holds_name\u001b[0m\u001b[1;33m(\u001b[0m\u001b[0mname\u001b[0m\u001b[1;33m)\u001b[0m\u001b[1;33m:\u001b[0m\u001b[1;33m\u001b[0m\u001b[1;33m\u001b[0m\u001b[0m\n\u001b[0;32m   5464\u001b[0m                 \u001b[1;32mreturn\u001b[0m \u001b[0mself\u001b[0m\u001b[1;33m[\u001b[0m\u001b[0mname\u001b[0m\u001b[1;33m]\u001b[0m\u001b[1;33m\u001b[0m\u001b[1;33m\u001b[0m\u001b[0m\n\u001b[1;32m-> 5465\u001b[1;33m             \u001b[1;32mreturn\u001b[0m \u001b[0mobject\u001b[0m\u001b[1;33m.\u001b[0m\u001b[0m__getattribute__\u001b[0m\u001b[1;33m(\u001b[0m\u001b[0mself\u001b[0m\u001b[1;33m,\u001b[0m \u001b[0mname\u001b[0m\u001b[1;33m)\u001b[0m\u001b[1;33m\u001b[0m\u001b[1;33m\u001b[0m\u001b[0m\n\u001b[0m\u001b[0;32m   5466\u001b[0m \u001b[1;33m\u001b[0m\u001b[0m\n\u001b[0;32m   5467\u001b[0m     \u001b[1;32mdef\u001b[0m \u001b[0m__setattr__\u001b[0m\u001b[1;33m(\u001b[0m\u001b[0mself\u001b[0m\u001b[1;33m,\u001b[0m \u001b[0mname\u001b[0m\u001b[1;33m:\u001b[0m \u001b[0mstr\u001b[0m\u001b[1;33m,\u001b[0m \u001b[0mvalue\u001b[0m\u001b[1;33m)\u001b[0m \u001b[1;33m->\u001b[0m \u001b[1;32mNone\u001b[0m\u001b[1;33m:\u001b[0m\u001b[1;33m\u001b[0m\u001b[1;33m\u001b[0m\u001b[0m\n",
      "\u001b[1;31mAttributeError\u001b[0m: 'DataFrame' object has no attribute 'favorite_sport'"
     ]
    }
   ],
   "source": [
    "df.favorite_sport.unique()"
   ]
  },
  {
   "cell_type": "code",
   "execution_count": 19,
   "id": "8ecb8a56",
   "metadata": {},
   "outputs": [
    {
     "ename": "KeyError",
     "evalue": "'good_film'",
     "output_type": "error",
     "traceback": [
      "\u001b[1;31m---------------------------------------------------------------------------\u001b[0m",
      "\u001b[1;31mKeyError\u001b[0m                                  Traceback (most recent call last)",
      "\u001b[1;32mD:\\Anaconda\\3-21-05\\lib\\site-packages\\pandas\\core\\indexes\\base.py\u001b[0m in \u001b[0;36mget_loc\u001b[1;34m(self, key, method, tolerance)\u001b[0m\n\u001b[0;32m   3079\u001b[0m             \u001b[1;32mtry\u001b[0m\u001b[1;33m:\u001b[0m\u001b[1;33m\u001b[0m\u001b[1;33m\u001b[0m\u001b[0m\n\u001b[1;32m-> 3080\u001b[1;33m                 \u001b[1;32mreturn\u001b[0m \u001b[0mself\u001b[0m\u001b[1;33m.\u001b[0m\u001b[0m_engine\u001b[0m\u001b[1;33m.\u001b[0m\u001b[0mget_loc\u001b[0m\u001b[1;33m(\u001b[0m\u001b[0mcasted_key\u001b[0m\u001b[1;33m)\u001b[0m\u001b[1;33m\u001b[0m\u001b[1;33m\u001b[0m\u001b[0m\n\u001b[0m\u001b[0;32m   3081\u001b[0m             \u001b[1;32mexcept\u001b[0m \u001b[0mKeyError\u001b[0m \u001b[1;32mas\u001b[0m \u001b[0merr\u001b[0m\u001b[1;33m:\u001b[0m\u001b[1;33m\u001b[0m\u001b[1;33m\u001b[0m\u001b[0m\n",
      "\u001b[1;32mpandas\\_libs\\index.pyx\u001b[0m in \u001b[0;36mpandas._libs.index.IndexEngine.get_loc\u001b[1;34m()\u001b[0m\n",
      "\u001b[1;32mpandas\\_libs\\index.pyx\u001b[0m in \u001b[0;36mpandas._libs.index.IndexEngine.get_loc\u001b[1;34m()\u001b[0m\n",
      "\u001b[1;32mpandas\\_libs\\hashtable_class_helper.pxi\u001b[0m in \u001b[0;36mpandas._libs.hashtable.PyObjectHashTable.get_item\u001b[1;34m()\u001b[0m\n",
      "\u001b[1;32mpandas\\_libs\\hashtable_class_helper.pxi\u001b[0m in \u001b[0;36mpandas._libs.hashtable.PyObjectHashTable.get_item\u001b[1;34m()\u001b[0m\n",
      "\u001b[1;31mKeyError\u001b[0m: 'good_film'",
      "\nThe above exception was the direct cause of the following exception:\n",
      "\u001b[1;31mKeyError\u001b[0m                                  Traceback (most recent call last)",
      "\u001b[1;32m<ipython-input-19-56f177018b47>\u001b[0m in \u001b[0;36m<module>\u001b[1;34m\u001b[0m\n\u001b[1;32m----> 1\u001b[1;33m \u001b[0mwords_film\u001b[0m \u001b[1;33m=\u001b[0m \u001b[0mnp\u001b[0m\u001b[1;33m.\u001b[0m\u001b[0mconcatenate\u001b[0m\u001b[1;33m(\u001b[0m\u001b[0mdf\u001b[0m\u001b[1;33m[\u001b[0m\u001b[1;34m'good_film'\u001b[0m\u001b[1;33m]\u001b[0m\u001b[1;33m.\u001b[0m\u001b[0mapply\u001b[0m\u001b[1;33m(\u001b[0m\u001b[1;32mlambda\u001b[0m \u001b[0ms\u001b[0m\u001b[1;33m:\u001b[0m \u001b[0ms\u001b[0m\u001b[1;33m.\u001b[0m\u001b[0mlower\u001b[0m\u001b[1;33m(\u001b[0m\u001b[1;33m)\u001b[0m\u001b[1;33m.\u001b[0m\u001b[0mstrip\u001b[0m\u001b[1;33m(\u001b[0m\u001b[1;33m)\u001b[0m\u001b[1;33m.\u001b[0m\u001b[0msplit\u001b[0m\u001b[1;33m(\u001b[0m\u001b[1;33m)\u001b[0m\u001b[1;33m)\u001b[0m\u001b[1;33m.\u001b[0m\u001b[0mvalues\u001b[0m\u001b[1;33m)\u001b[0m\u001b[1;31m#перевод в строку столбца good_film\u001b[0m\u001b[1;33m\u001b[0m\u001b[1;33m\u001b[0m\u001b[0m\n\u001b[0m\u001b[0;32m      2\u001b[0m \u001b[0mwords_expectation\u001b[0m \u001b[1;33m=\u001b[0m \u001b[0mnp\u001b[0m\u001b[1;33m.\u001b[0m\u001b[0mconcatenate\u001b[0m\u001b[1;33m(\u001b[0m\u001b[0mdf\u001b[0m\u001b[1;33m[\u001b[0m\u001b[1;34m'expectation_of_course'\u001b[0m\u001b[1;33m]\u001b[0m\u001b[1;33m.\u001b[0m\u001b[0mapply\u001b[0m\u001b[1;33m(\u001b[0m\u001b[1;32mlambda\u001b[0m \u001b[0ms\u001b[0m\u001b[1;33m:\u001b[0m \u001b[0ms\u001b[0m\u001b[1;33m.\u001b[0m\u001b[0mlower\u001b[0m\u001b[1;33m(\u001b[0m\u001b[1;33m)\u001b[0m\u001b[1;33m.\u001b[0m\u001b[0mstrip\u001b[0m\u001b[1;33m(\u001b[0m\u001b[1;33m)\u001b[0m\u001b[1;33m.\u001b[0m\u001b[0msplit\u001b[0m\u001b[1;33m(\u001b[0m\u001b[1;33m)\u001b[0m\u001b[1;33m)\u001b[0m\u001b[1;33m.\u001b[0m\u001b[0mvalues\u001b[0m\u001b[1;33m)\u001b[0m\u001b[1;31m#перевод в строку столбца expectation_of_course\u001b[0m\u001b[1;33m\u001b[0m\u001b[1;33m\u001b[0m\u001b[0m\n\u001b[0;32m      3\u001b[0m \u001b[0mwords_sport\u001b[0m \u001b[1;33m=\u001b[0m \u001b[0mnp\u001b[0m\u001b[1;33m.\u001b[0m\u001b[0mconcatenate\u001b[0m\u001b[1;33m(\u001b[0m\u001b[0mdf\u001b[0m\u001b[1;33m[\u001b[0m\u001b[1;34m'favorite_sport'\u001b[0m\u001b[1;33m]\u001b[0m\u001b[1;33m.\u001b[0m\u001b[0mapply\u001b[0m\u001b[1;33m(\u001b[0m\u001b[1;32mlambda\u001b[0m \u001b[0ms\u001b[0m\u001b[1;33m:\u001b[0m \u001b[0ms\u001b[0m\u001b[1;33m.\u001b[0m\u001b[0mlower\u001b[0m\u001b[1;33m(\u001b[0m\u001b[1;33m)\u001b[0m\u001b[1;33m.\u001b[0m\u001b[0mstrip\u001b[0m\u001b[1;33m(\u001b[0m\u001b[1;33m)\u001b[0m\u001b[1;33m.\u001b[0m\u001b[0msplit\u001b[0m\u001b[1;33m(\u001b[0m\u001b[1;33m)\u001b[0m\u001b[1;33m)\u001b[0m\u001b[1;33m.\u001b[0m\u001b[0mvalues\u001b[0m\u001b[1;33m)\u001b[0m\u001b[1;31m#перевод в строку столбца favorite_sport\u001b[0m\u001b[1;33m\u001b[0m\u001b[1;33m\u001b[0m\u001b[0m\n\u001b[0;32m      4\u001b[0m \u001b[0mwords_sport\u001b[0m\u001b[1;33m\u001b[0m\u001b[1;33m\u001b[0m\u001b[0m\n",
      "\u001b[1;32mD:\\Anaconda\\3-21-05\\lib\\site-packages\\pandas\\core\\frame.py\u001b[0m in \u001b[0;36m__getitem__\u001b[1;34m(self, key)\u001b[0m\n\u001b[0;32m   3022\u001b[0m             \u001b[1;32mif\u001b[0m \u001b[0mself\u001b[0m\u001b[1;33m.\u001b[0m\u001b[0mcolumns\u001b[0m\u001b[1;33m.\u001b[0m\u001b[0mnlevels\u001b[0m \u001b[1;33m>\u001b[0m \u001b[1;36m1\u001b[0m\u001b[1;33m:\u001b[0m\u001b[1;33m\u001b[0m\u001b[1;33m\u001b[0m\u001b[0m\n\u001b[0;32m   3023\u001b[0m                 \u001b[1;32mreturn\u001b[0m \u001b[0mself\u001b[0m\u001b[1;33m.\u001b[0m\u001b[0m_getitem_multilevel\u001b[0m\u001b[1;33m(\u001b[0m\u001b[0mkey\u001b[0m\u001b[1;33m)\u001b[0m\u001b[1;33m\u001b[0m\u001b[1;33m\u001b[0m\u001b[0m\n\u001b[1;32m-> 3024\u001b[1;33m             \u001b[0mindexer\u001b[0m \u001b[1;33m=\u001b[0m \u001b[0mself\u001b[0m\u001b[1;33m.\u001b[0m\u001b[0mcolumns\u001b[0m\u001b[1;33m.\u001b[0m\u001b[0mget_loc\u001b[0m\u001b[1;33m(\u001b[0m\u001b[0mkey\u001b[0m\u001b[1;33m)\u001b[0m\u001b[1;33m\u001b[0m\u001b[1;33m\u001b[0m\u001b[0m\n\u001b[0m\u001b[0;32m   3025\u001b[0m             \u001b[1;32mif\u001b[0m \u001b[0mis_integer\u001b[0m\u001b[1;33m(\u001b[0m\u001b[0mindexer\u001b[0m\u001b[1;33m)\u001b[0m\u001b[1;33m:\u001b[0m\u001b[1;33m\u001b[0m\u001b[1;33m\u001b[0m\u001b[0m\n\u001b[0;32m   3026\u001b[0m                 \u001b[0mindexer\u001b[0m \u001b[1;33m=\u001b[0m \u001b[1;33m[\u001b[0m\u001b[0mindexer\u001b[0m\u001b[1;33m]\u001b[0m\u001b[1;33m\u001b[0m\u001b[1;33m\u001b[0m\u001b[0m\n",
      "\u001b[1;32mD:\\Anaconda\\3-21-05\\lib\\site-packages\\pandas\\core\\indexes\\base.py\u001b[0m in \u001b[0;36mget_loc\u001b[1;34m(self, key, method, tolerance)\u001b[0m\n\u001b[0;32m   3080\u001b[0m                 \u001b[1;32mreturn\u001b[0m \u001b[0mself\u001b[0m\u001b[1;33m.\u001b[0m\u001b[0m_engine\u001b[0m\u001b[1;33m.\u001b[0m\u001b[0mget_loc\u001b[0m\u001b[1;33m(\u001b[0m\u001b[0mcasted_key\u001b[0m\u001b[1;33m)\u001b[0m\u001b[1;33m\u001b[0m\u001b[1;33m\u001b[0m\u001b[0m\n\u001b[0;32m   3081\u001b[0m             \u001b[1;32mexcept\u001b[0m \u001b[0mKeyError\u001b[0m \u001b[1;32mas\u001b[0m \u001b[0merr\u001b[0m\u001b[1;33m:\u001b[0m\u001b[1;33m\u001b[0m\u001b[1;33m\u001b[0m\u001b[0m\n\u001b[1;32m-> 3082\u001b[1;33m                 \u001b[1;32mraise\u001b[0m \u001b[0mKeyError\u001b[0m\u001b[1;33m(\u001b[0m\u001b[0mkey\u001b[0m\u001b[1;33m)\u001b[0m \u001b[1;32mfrom\u001b[0m \u001b[0merr\u001b[0m\u001b[1;33m\u001b[0m\u001b[1;33m\u001b[0m\u001b[0m\n\u001b[0m\u001b[0;32m   3083\u001b[0m \u001b[1;33m\u001b[0m\u001b[0m\n\u001b[0;32m   3084\u001b[0m         \u001b[1;32mif\u001b[0m \u001b[0mtolerance\u001b[0m \u001b[1;32mis\u001b[0m \u001b[1;32mnot\u001b[0m \u001b[1;32mNone\u001b[0m\u001b[1;33m:\u001b[0m\u001b[1;33m\u001b[0m\u001b[1;33m\u001b[0m\u001b[0m\n",
      "\u001b[1;31mKeyError\u001b[0m: 'good_film'"
     ]
    }
   ],
   "source": [
    "words_film = np.concatenate(df['good_film'].apply(lambda s: s.lower().strip().split()).values)#перевод в строку столбца good_film\n",
    "words_expectation = np.concatenate(df['expectation_of_course'].apply(lambda s: s.lower().strip().split()).values)#перевод в строку столбца expectation_of_course\n",
    "words_sport = np.concatenate(df['favorite_sport'].apply(lambda s: s.lower().strip().split()).values)#перевод в строку столбца favorite_sport\n",
    "words_sport"
   ]
  },
  {
   "cell_type": "code",
   "execution_count": 10,
   "id": "c1ccfd01",
   "metadata": {},
   "outputs": [],
   "source": [
    "#создала функцию для лемматизации данных, разделила списки стоп-слов для каждого признака\n",
    "def token_func(list_words, f):\n",
    "    morf = MorphAnalyzer()#метод морфологического анализа\n",
    "    nltk_punct = '!\"#$%&\\'()*+,-./:;<=>?@[\\\\]^_`{|}~ ' #пунктуация\n",
    "    nltk_stopwords = stopwords.words('russian')#стоп-слова\n",
    "    new_tokens = []\n",
    "    ss = '1+1'\n",
    "    \n",
    "    #мой список стоп-слов\n",
    "    if f == 'words_film':\n",
    "        my_stop_words = ['сериал','кор','л','это','г','др','тд','вз','лху','михалкоы'\n",
    "                     ,'мнооооогий','москатить','назначенияасмирнов','нофегод','пуарый','тп','уве','унабомбер']\n",
    "        new_tokens.append(ss)\n",
    "    if f == 'words_expectation':\n",
    "        my_stop_words = ['вс','дабы','который','лгкий','наш','никак','нравиться','получаться','поэтому','приложить','принимать','пролетать','просто','пространство','профессиюработа',\n",
    "                    'родиться','сайтыработать','смочь','сразу','также','улучшениеувеличение','хочеться','чтоть','1+1']\n",
    "    if f == 'words_sport': \n",
    "        my_stop_words = ['быстрый','вести','вид','выделять','жизнь','лгкай','нету', 'озрный','посвоему','смотреть','-']\n",
    "        \n",
    "    for token in list_words:\n",
    "        token = re.sub(r'[^а-я ё]','',str(token))\n",
    "        lemma_words = morf.parse(token)#лемматизация\n",
    "        token = lemma_words[0].normal_form\n",
    "        if (token not in nltk_stopwords) & (token not in my_stop_words) & (token not in nltk_punct):\n",
    "            new_tokens.append(token)\n",
    "        \n",
    "    return new_tokens\n"
   ]
  },
  {
   "cell_type": "code",
   "execution_count": 128,
   "id": "58eff18a",
   "metadata": {},
   "outputs": [
    {
     "data": {
      "text/plain": [
       "'ёsllддrrддsws'"
      ]
     },
     "execution_count": 128,
     "metadata": {},
     "output_type": "execute_result"
    }
   ],
   "source": [
    "c = 'ЙЦЁёWDDRRRSsllддrrддsws12345'\n",
    "\n",
    "#test = re.sub(r'[^а-я ё w-z W-Z Ф-Я Ё /s /S]','',str(a))\n",
    "test3 = re.sub(r' ^[W-ZА-ЯЁ][^а-яёw-z/s]\\D','',str(c))\n",
    "test4 = re.sub(r'[W-ZА-ЯЁ]*?[^a-zа-яё]','',str(c))\n",
    "#test\n",
    "test4"
   ]
  },
  {
   "cell_type": "code",
   "execution_count": 122,
   "id": "26139e8c",
   "metadata": {},
   "outputs": [
    {
     "data": {
      "text/plain": [
       "'ЙЦЁёWDDRRRSsllддrrддsws12345'"
      ]
     },
     "execution_count": 122,
     "metadata": {},
     "output_type": "execute_result"
    }
   ],
   "source": [
    "c = 'ЙЦЁёWDDRRRSsllддrrддsws12345'\n",
    "test5 = re.sub(r'\\(.*?\\)','',str(c))\n",
    "test5"
   ]
  },
  {
   "cell_type": "code",
   "execution_count": 130,
   "id": "ec61f433",
   "metadata": {},
   "outputs": [
    {
     "data": {
      "text/plain": [
       "'ЙЦЁёWDDRRRSsllддrrддsws12345'"
      ]
     },
     "execution_count": 130,
     "metadata": {},
     "output_type": "execute_result"
    }
   ],
   "source": [
    "c = 'ЙЦЁёWDDRRRSsllддrrддsws12345'\n",
    "tr=re.sub(r'^(?:[а-я]+[А-Я][а-я]*|[а-я]*[А-Я][а-я]+)$','',str(c))\n",
    "tr"
   ]
  },
  {
   "cell_type": "code",
   "execution_count": 131,
   "id": "1d93b10a",
   "metadata": {},
   "outputs": [
    {
     "data": {
      "text/plain": [
       "'ЙЦУУЁёWSsswыыыs112222345'"
      ]
     },
     "execution_count": 131,
     "metadata": {},
     "output_type": "execute_result"
    }
   ],
   "source": [
    "b ='ЙЦУУЁёWSsswыыыs112222345' \n",
    "test2 = re.sub(r' ^([а-яё]*[А-ЯЁ][а-яё]*)$','',str(b))\n",
    "test2"
   ]
  },
  {
   "cell_type": "code",
   "execution_count": 11,
   "id": "b994e91f",
   "metadata": {},
   "outputs": [],
   "source": [
    "film = token_func(words_film,'words_film')#токенизация по фильму\n",
    "film.sort()\n",
    "#заменила написание слова\n",
    "z = []\n",
    "for i, x in enumerate(film):\n",
    "    if x == 'зелный':\n",
    "        z.append(i)\n",
    "for i in z:\n",
    "    film[i] = 'зелёный'\n",
    "#film"
   ]
  },
  {
   "cell_type": "code",
   "execution_count": 21,
   "id": "4b323eeb",
   "metadata": {},
   "outputs": [
    {
     "data": {
      "text/plain": [
       "['автоматизировать',\n",
       " 'академический',\n",
       " 'анализ',\n",
       " 'анализ',\n",
       " 'анализ',\n",
       " 'анализ',\n",
       " 'анализ',\n",
       " 'анализ',\n",
       " 'анализировать',\n",
       " 'анализировать',\n",
       " 'анализировать',\n",
       " 'аналитик',\n",
       " 'аналитик',\n",
       " 'аналитик',\n",
       " 'аналитик',\n",
       " 'аналитик',\n",
       " 'аналитик',\n",
       " 'аналитик',\n",
       " 'аналитик',\n",
       " 'аналитик',\n",
       " 'аналитик',\n",
       " 'аналитика',\n",
       " 'аналитика',\n",
       " 'аналитика',\n",
       " 'аналитика',\n",
       " 'аналитика',\n",
       " 'аналитикипрограммирование',\n",
       " 'аргументированно',\n",
       " 'база',\n",
       " 'база',\n",
       " 'базовый',\n",
       " 'базовый',\n",
       " 'бд',\n",
       " 'бизнеспланирование',\n",
       " 'блок',\n",
       " 'больший',\n",
       " 'больший',\n",
       " 'больший',\n",
       " 'важно',\n",
       " 'верный',\n",
       " 'весь',\n",
       " 'вид',\n",
       " 'возможно',\n",
       " 'возможность',\n",
       " 'возможность',\n",
       " 'возможность',\n",
       " 'возможность',\n",
       " 'возможность',\n",
       " 'возможность',\n",
       " 'возможность',\n",
       " 'возможность',\n",
       " 'возможность',\n",
       " 'возможность',\n",
       " 'возможность',\n",
       " 'возможность',\n",
       " 'возможность',\n",
       " 'возможный',\n",
       " 'востребовать',\n",
       " 'востребовать',\n",
       " 'востребовать',\n",
       " 'востребовать',\n",
       " 'всё',\n",
       " 'всё',\n",
       " 'вуз',\n",
       " 'высокий',\n",
       " 'высокооплачиваемый',\n",
       " 'высокооплачиваемый',\n",
       " 'вытекать',\n",
       " 'выучиться',\n",
       " 'гипотеза',\n",
       " 'глубокий',\n",
       " 'гнездо',\n",
       " 'год',\n",
       " 'дальнейший',\n",
       " 'дальнейший',\n",
       " 'далёкий',\n",
       " 'данные',\n",
       " 'данные',\n",
       " 'данные',\n",
       " 'данные',\n",
       " 'данные',\n",
       " 'данные',\n",
       " 'данные',\n",
       " 'данные',\n",
       " 'данные',\n",
       " 'данные',\n",
       " 'данные',\n",
       " 'данные',\n",
       " 'данные',\n",
       " 'данные',\n",
       " 'данные',\n",
       " 'данные',\n",
       " 'данный',\n",
       " 'дать',\n",
       " 'дать',\n",
       " 'дать',\n",
       " 'дать',\n",
       " 'дело',\n",
       " 'деятельность',\n",
       " 'деятельность',\n",
       " 'деятельность',\n",
       " 'деятельность',\n",
       " 'деятельность',\n",
       " 'деятельность',\n",
       " 'деятельность',\n",
       " 'деятельность',\n",
       " 'деятельность',\n",
       " 'диплом',\n",
       " 'должность',\n",
       " 'доп',\n",
       " 'дополнительный',\n",
       " 'достаточно',\n",
       " 'достаточный',\n",
       " 'достаточный',\n",
       " 'достаточный',\n",
       " 'доход',\n",
       " 'жизнь',\n",
       " 'жизнь',\n",
       " 'задача',\n",
       " 'закончить',\n",
       " 'заниматься',\n",
       " 'зарабатывать',\n",
       " 'заработок',\n",
       " 'зарплата',\n",
       " 'затем',\n",
       " 'знакомство',\n",
       " 'знание',\n",
       " 'знание',\n",
       " 'знание',\n",
       " 'знание',\n",
       " 'знание',\n",
       " 'знание',\n",
       " 'знание',\n",
       " 'знание',\n",
       " 'знание',\n",
       " 'знание',\n",
       " 'знание',\n",
       " 'знание',\n",
       " 'знание',\n",
       " 'знание',\n",
       " 'знание',\n",
       " 'знание',\n",
       " 'знание',\n",
       " 'знание',\n",
       " 'знание',\n",
       " 'знание',\n",
       " 'знание',\n",
       " 'знание',\n",
       " 'знание',\n",
       " 'знание',\n",
       " 'знание',\n",
       " 'знание',\n",
       " 'знание',\n",
       " 'знание',\n",
       " 'знание',\n",
       " 'знание',\n",
       " 'знание',\n",
       " 'знание',\n",
       " 'знание',\n",
       " 'знание',\n",
       " 'знание',\n",
       " 'знание',\n",
       " 'знание',\n",
       " 'знание',\n",
       " 'знание',\n",
       " 'знание',\n",
       " 'знание',\n",
       " 'знание',\n",
       " 'знание',\n",
       " 'знание',\n",
       " 'знание',\n",
       " 'знание',\n",
       " 'знание',\n",
       " 'знание',\n",
       " 'знание',\n",
       " 'знание',\n",
       " 'знание',\n",
       " 'знание',\n",
       " 'знание',\n",
       " 'знание',\n",
       " 'знание',\n",
       " 'знание',\n",
       " 'знание',\n",
       " 'знание',\n",
       " 'знание',\n",
       " 'знание',\n",
       " 'знание',\n",
       " 'знание',\n",
       " 'знание',\n",
       " 'знание',\n",
       " 'знание',\n",
       " 'знание',\n",
       " 'знание',\n",
       " 'знание',\n",
       " 'знание',\n",
       " 'знание',\n",
       " 'знаниятрудоустройство',\n",
       " 'зп',\n",
       " 'идти',\n",
       " 'изменить',\n",
       " 'изучение',\n",
       " 'изучение',\n",
       " 'изучить',\n",
       " 'иметься',\n",
       " 'инструмент',\n",
       " 'инструмент',\n",
       " 'интересный',\n",
       " 'интересный',\n",
       " 'интересный',\n",
       " 'интернетмаркетинг',\n",
       " 'количество',\n",
       " 'компетенция',\n",
       " 'компетенция',\n",
       " 'конверсия',\n",
       " 'конкурентоспособность',\n",
       " 'конкурентоспособный',\n",
       " 'крепкий',\n",
       " 'крутой',\n",
       " 'кукушка',\n",
       " 'курс',\n",
       " 'личный',\n",
       " 'любимый',\n",
       " 'любить',\n",
       " 'математика',\n",
       " 'материал',\n",
       " 'минимум',\n",
       " 'мир',\n",
       " 'навык',\n",
       " 'навык',\n",
       " 'навык',\n",
       " 'навык',\n",
       " 'навык',\n",
       " 'навык',\n",
       " 'навык',\n",
       " 'навык',\n",
       " 'навык',\n",
       " 'навык',\n",
       " 'навык',\n",
       " 'навык',\n",
       " 'навык',\n",
       " 'навык',\n",
       " 'навык',\n",
       " 'навык',\n",
       " 'навык',\n",
       " 'навык',\n",
       " 'навык',\n",
       " 'навык',\n",
       " 'навык',\n",
       " 'навык',\n",
       " 'навык',\n",
       " 'навык',\n",
       " 'навык',\n",
       " 'навык',\n",
       " 'навык',\n",
       " 'навык',\n",
       " 'навык',\n",
       " 'навык',\n",
       " 'надеяться',\n",
       " 'надеяться',\n",
       " 'надеяться',\n",
       " 'найти',\n",
       " 'найти',\n",
       " 'найти',\n",
       " 'найти',\n",
       " 'найти',\n",
       " 'найти',\n",
       " 'найти',\n",
       " 'найти',\n",
       " 'направление',\n",
       " 'направление',\n",
       " 'направление',\n",
       " 'направление',\n",
       " 'направление',\n",
       " 'напрямую',\n",
       " 'научиться',\n",
       " 'научиться',\n",
       " 'научиться',\n",
       " 'научиться',\n",
       " 'научиться',\n",
       " 'научиться',\n",
       " 'научиться',\n",
       " 'начало',\n",
       " 'начало',\n",
       " 'начальный',\n",
       " 'начать',\n",
       " 'начать',\n",
       " 'необходимый',\n",
       " 'необходимый',\n",
       " 'необходимый',\n",
       " 'новый',\n",
       " 'новый',\n",
       " 'новый',\n",
       " 'новый',\n",
       " 'новый',\n",
       " 'новый',\n",
       " 'новый',\n",
       " 'новый',\n",
       " 'новый',\n",
       " 'новый',\n",
       " 'новый',\n",
       " 'новый',\n",
       " 'новый',\n",
       " 'новый',\n",
       " 'новый',\n",
       " 'новый',\n",
       " 'новый',\n",
       " 'новый',\n",
       " 'новый',\n",
       " 'новый',\n",
       " 'новый',\n",
       " 'новый',\n",
       " 'новый',\n",
       " 'новый',\n",
       " 'новый',\n",
       " 'новый',\n",
       " 'новый',\n",
       " 'новый',\n",
       " 'новый',\n",
       " 'новый',\n",
       " 'новый',\n",
       " 'новый',\n",
       " 'новый',\n",
       " 'новый',\n",
       " 'новый',\n",
       " 'новый',\n",
       " 'новый',\n",
       " 'новый',\n",
       " 'новый',\n",
       " 'новый',\n",
       " 'новый',\n",
       " 'новый',\n",
       " 'новый',\n",
       " 'новый',\n",
       " 'новый',\n",
       " 'новый',\n",
       " 'новый',\n",
       " 'новый',\n",
       " 'новый',\n",
       " 'новый',\n",
       " 'новый',\n",
       " 'новый',\n",
       " 'новый',\n",
       " 'новый',\n",
       " 'новый',\n",
       " 'новый',\n",
       " 'новый',\n",
       " 'новый',\n",
       " 'новый',\n",
       " 'новый',\n",
       " 'новый',\n",
       " 'новый',\n",
       " 'новый',\n",
       " 'новый',\n",
       " 'новый',\n",
       " 'новый',\n",
       " 'обещать',\n",
       " 'обладать',\n",
       " 'область',\n",
       " 'область',\n",
       " 'обновление',\n",
       " 'обработка',\n",
       " 'образ',\n",
       " 'образование',\n",
       " 'образование',\n",
       " 'обрести',\n",
       " 'общение',\n",
       " 'общий',\n",
       " 'объём',\n",
       " 'овладение',\n",
       " 'овладеть',\n",
       " 'овладеть',\n",
       " 'овладеть',\n",
       " 'овладеть',\n",
       " 'огромный',\n",
       " 'ожидать',\n",
       " 'ожидать',\n",
       " 'ожидать',\n",
       " 'ознакомление',\n",
       " 'онлайн',\n",
       " 'опыт',\n",
       " 'опыт',\n",
       " 'освежить',\n",
       " 'освоение',\n",
       " 'освоение',\n",
       " 'освоение',\n",
       " 'освоение',\n",
       " 'освоение',\n",
       " 'освоение',\n",
       " 'освоение',\n",
       " 'освоение',\n",
       " 'освоить',\n",
       " 'освоить',\n",
       " 'освоить',\n",
       " 'освоить',\n",
       " 'освоить',\n",
       " 'освоить',\n",
       " 'освоить',\n",
       " 'освоить',\n",
       " 'освоить',\n",
       " 'основа',\n",
       " 'открытие',\n",
       " 'открытие',\n",
       " 'открыть',\n",
       " 'отличать',\n",
       " 'очистка',\n",
       " 'парсить',\n",
       " 'педстаж',\n",
       " 'первоначальный',\n",
       " 'переподготовка',\n",
       " 'переход',\n",
       " 'повысить',\n",
       " 'повысить',\n",
       " 'повысить',\n",
       " 'повысить',\n",
       " 'повышение',\n",
       " 'повышение',\n",
       " 'повышение',\n",
       " 'повышение',\n",
       " 'подача',\n",
       " 'подготовка',\n",
       " 'полезный',\n",
       " 'полноценный',\n",
       " 'полноценный',\n",
       " 'полный',\n",
       " 'получение',\n",
       " 'получение',\n",
       " 'получение',\n",
       " 'получение',\n",
       " 'получение',\n",
       " 'получение',\n",
       " 'получение',\n",
       " 'получение',\n",
       " 'получение',\n",
       " 'получение',\n",
       " 'получение',\n",
       " 'получение',\n",
       " 'получение',\n",
       " 'получение',\n",
       " 'получение',\n",
       " 'получение',\n",
       " 'получение',\n",
       " 'получение',\n",
       " 'получение',\n",
       " 'получение',\n",
       " 'получение',\n",
       " 'получить',\n",
       " 'получить',\n",
       " 'получить',\n",
       " 'получить',\n",
       " 'получить',\n",
       " 'получить',\n",
       " 'получить',\n",
       " 'получить',\n",
       " 'получить',\n",
       " 'получить',\n",
       " 'получить',\n",
       " 'получить',\n",
       " 'получить',\n",
       " 'получить',\n",
       " 'получить',\n",
       " 'получить',\n",
       " 'получить',\n",
       " 'получить',\n",
       " 'получить',\n",
       " 'получить',\n",
       " 'получить',\n",
       " 'получить',\n",
       " 'получить',\n",
       " 'получить',\n",
       " 'получить',\n",
       " 'получить',\n",
       " 'получить',\n",
       " 'получить',\n",
       " 'получиться',\n",
       " 'пользоваться',\n",
       " 'поменять',\n",
       " 'помочь',\n",
       " 'помочь',\n",
       " 'помочь',\n",
       " 'помочь',\n",
       " 'помощь',\n",
       " 'помощь',\n",
       " 'понимание',\n",
       " 'понимание',\n",
       " 'последующий',\n",
       " 'последующий',\n",
       " 'правильный',\n",
       " 'практика',\n",
       " 'практика',\n",
       " 'практика',\n",
       " 'практика',\n",
       " 'практика',\n",
       " 'практика',\n",
       " 'практика',\n",
       " 'практика',\n",
       " 'практика',\n",
       " 'практика',\n",
       " 'практика',\n",
       " 'практический',\n",
       " 'практический',\n",
       " 'практический',\n",
       " 'практический',\n",
       " 'практический',\n",
       " 'практический',\n",
       " 'практический',\n",
       " 'предприниматель',\n",
       " 'представление',\n",
       " 'представление',\n",
       " 'прикладной',\n",
       " 'применение',\n",
       " 'применение',\n",
       " 'применение',\n",
       " 'применимый',\n",
       " 'применить',\n",
       " 'применить',\n",
       " 'применить',\n",
       " 'применить',\n",
       " 'применить',\n",
       " 'применить',\n",
       " 'применять',\n",
       " 'применять',\n",
       " 'применять',\n",
       " 'применять',\n",
       " 'применять',\n",
       " 'применять',\n",
       " 'приобрести',\n",
       " 'приобрести',\n",
       " 'проверка',\n",
       " 'проводить',\n",
       " 'прогноз',\n",
       " 'программа',\n",
       " 'программирование',\n",
       " 'программирование',\n",
       " 'программирование',\n",
       " 'программирование',\n",
       " 'программирование',\n",
       " 'профдеятельность',\n",
       " 'профессиональный',\n",
       " 'профессиональный',\n",
       " 'профессиональный',\n",
       " 'профессиональный',\n",
       " 'профессиональный',\n",
       " 'профессия',\n",
       " 'профессия',\n",
       " 'профессия',\n",
       " 'профессия',\n",
       " 'профессия',\n",
       " 'профессия',\n",
       " 'профессия',\n",
       " 'профессия',\n",
       " 'профессия',\n",
       " 'профессия',\n",
       " 'профессия',\n",
       " 'профессия',\n",
       " 'профессия',\n",
       " 'профессия',\n",
       " 'профессия',\n",
       " 'профессия',\n",
       " 'профессия',\n",
       " 'профессия',\n",
       " 'профессия',\n",
       " 'профессия',\n",
       " 'профессия',\n",
       " 'профессия',\n",
       " 'профиль',\n",
       " 'профинтерес',\n",
       " 'работа',\n",
       " 'работа',\n",
       " 'работа',\n",
       " 'работа',\n",
       " 'работа',\n",
       " 'работа',\n",
       " 'работа',\n",
       " 'работа',\n",
       " 'работа',\n",
       " 'работа',\n",
       " 'работа',\n",
       " 'работа',\n",
       " 'работа',\n",
       " 'работа',\n",
       " 'работа',\n",
       " 'работа',\n",
       " 'работа',\n",
       " 'работа',\n",
       " 'работа',\n",
       " 'работа',\n",
       " 'работа',\n",
       " 'работа',\n",
       " 'работа',\n",
       " 'работать',\n",
       " 'работать',\n",
       " 'работать',\n",
       " 'работать',\n",
       " 'работать',\n",
       " 'работать',\n",
       " 'работать',\n",
       " 'работать',\n",
       " 'развитие',\n",
       " 'развитие',\n",
       " 'разговаривать',\n",
       " 'разобраться',\n",
       " 'расширение',\n",
       " 'реализовать',\n",
       " 'реальный',\n",
       " 'рекомендация',\n",
       " 'решение',\n",
       " 'решение',\n",
       " 'рост',\n",
       " 'рост',\n",
       " 'рост',\n",
       " 'руководить',\n",
       " 'руководство',\n",
       " 'рынок',\n",
       " 'рынок',\n",
       " 'рынок',\n",
       " 'сверх',\n",
       " 'свой',\n",
       " 'свой',\n",
       " 'свой',\n",
       " 'свой',\n",
       " 'свой',\n",
       " 'свой',\n",
       " 'свой',\n",
       " 'связанный',\n",
       " 'систематизация',\n",
       " 'систематизация',\n",
       " 'системный',\n",
       " 'следствие',\n",
       " 'следствие',\n",
       " 'смена',\n",
       " 'смена',\n",
       " 'смена',\n",
       " 'смена',\n",
       " 'смена',\n",
       " 'сменить',\n",
       " 'сменить',\n",
       " 'сменить',\n",
       " 'сменить',\n",
       " 'собирать',\n",
       " 'совершенствование',\n",
       " 'совершенствование',\n",
       " 'составление',\n",
       " 'специалист',\n",
       " 'специалист',\n",
       " 'специальность',\n",
       " 'специальность',\n",
       " 'специальность',\n",
       " 'специальность',\n",
       " 'специальность',\n",
       " 'специальность',\n",
       " 'специальность',\n",
       " 'специальность',\n",
       " 'специальность',\n",
       " 'специальность',\n",
       " 'способность',\n",
       " 'стабильный',\n",
       " 'стандартныхнестандартный',\n",
       " 'старт',\n",
       " 'статистика',\n",
       " 'стать',\n",
       " 'стать',\n",
       " 'стать',\n",
       " 'сторона',\n",
       " 'сфера',\n",
       " 'сфера',\n",
       " 'сфера',\n",
       " 'сфера',\n",
       " 'сфера',\n",
       " 'сфера',\n",
       " 'сфера',\n",
       " 'сфера',\n",
       " 'сфера',\n",
       " 'сфера',\n",
       " 'сфера',\n",
       " 'текущий',\n",
       " 'труд',\n",
       " 'труд',\n",
       " 'труд',\n",
       " 'трудоустроиться',\n",
       " 'трудоустроиться',\n",
       " 'трудоустройство',\n",
       " 'трудоустройство',\n",
       " 'трудоустройство',\n",
       " 'трудоустройство',\n",
       " 'увеличение',\n",
       " 'углубление',\n",
       " 'удалённый',\n",
       " 'удалённый',\n",
       " 'удалённый',\n",
       " 'удовольствие',\n",
       " 'узнать',\n",
       " 'узнать',\n",
       " 'узнать',\n",
       " 'узнать',\n",
       " 'указать',\n",
       " 'умение',\n",
       " 'умение',\n",
       " 'умение',\n",
       " 'умение',\n",
       " 'умение',\n",
       " 'уровень',\n",
       " 'уровень',\n",
       " 'уровень',\n",
       " 'усилие',\n",
       " 'успешно',\n",
       " 'успешный',\n",
       " 'устроиться',\n",
       " 'учиться',\n",
       " 'финансовоэкономический',\n",
       " 'финансы',\n",
       " 'фишка',\n",
       " 'форма',\n",
       " 'фундамент',\n",
       " 'фундаментальный',\n",
       " 'функция',\n",
       " 'хороший',\n",
       " 'хотеть',\n",
       " 'хотеть',\n",
       " 'хотеть',\n",
       " 'хотеть',\n",
       " 'хотеть',\n",
       " 'хотеть',\n",
       " 'хотеть',\n",
       " 'хотеть',\n",
       " 'хотеть',\n",
       " 'цель',\n",
       " 'цифровой',\n",
       " 'число',\n",
       " 'экономика',\n",
       " 'экономика',\n",
       " 'это',\n",
       " 'это',\n",
       " 'эффективность',\n",
       " 'язык',\n",
       " 'язык']"
      ]
     },
     "execution_count": 21,
     "metadata": {},
     "output_type": "execute_result"
    }
   ],
   "source": [
    "words_expectation = token_func(words_expectation,'words_expectation')#токенизация по ожиданию от курса\n",
    "words_expectation.sort()\n",
    "words_expectation"
   ]
  },
  {
   "cell_type": "code",
   "execution_count": 20,
   "id": "7c248eed",
   "metadata": {},
   "outputs": [
    {
     "data": {
      "text/plain": [
       "['айкидо',\n",
       " 'айкидо',\n",
       " 'активно',\n",
       " 'атлетика',\n",
       " 'атлетика',\n",
       " 'атлетика',\n",
       " 'бадминтон',\n",
       " 'байдарка',\n",
       " 'балет',\n",
       " 'баскетбол',\n",
       " 'баскетбол',\n",
       " 'баскетбол',\n",
       " 'баскетбол',\n",
       " 'бег',\n",
       " 'бег',\n",
       " 'бег',\n",
       " 'бег',\n",
       " 'бег',\n",
       " 'бег',\n",
       " 'бег',\n",
       " 'бег',\n",
       " 'беговой',\n",
       " 'беговой',\n",
       " 'биатлон',\n",
       " 'биатлон',\n",
       " 'биатлон',\n",
       " 'бокс',\n",
       " 'бокс',\n",
       " 'большой',\n",
       " 'большой',\n",
       " 'борьба',\n",
       " 'борьба',\n",
       " 'борьба',\n",
       " 'борьба',\n",
       " 'борьба',\n",
       " 'вейксноубординг',\n",
       " 'велосипед',\n",
       " 'велосипед',\n",
       " 'велосипед',\n",
       " 'велосипед',\n",
       " 'велосипед',\n",
       " 'велоспорт',\n",
       " 'велоспорт',\n",
       " 'волейбол',\n",
       " 'волейбол',\n",
       " 'волейбол',\n",
       " 'волейбол',\n",
       " 'волейбол',\n",
       " 'волейбол',\n",
       " 'волейбол',\n",
       " 'волейбол',\n",
       " 'волейбол',\n",
       " 'волейбол',\n",
       " 'волейбол',\n",
       " 'воллейбол',\n",
       " 'вольный',\n",
       " 'гимнастика',\n",
       " 'гимнастика',\n",
       " 'гимнастика',\n",
       " 'горный',\n",
       " 'горный',\n",
       " 'дзюдо',\n",
       " 'единоборство',\n",
       " 'зал',\n",
       " 'заниматься',\n",
       " 'заниматься',\n",
       " 'заниматься',\n",
       " 'заниматься',\n",
       " 'затрудняться',\n",
       " 'игра',\n",
       " 'интересный',\n",
       " 'интересный',\n",
       " 'интересоваться',\n",
       " 'йог',\n",
       " 'йог',\n",
       " 'йог',\n",
       " 'йог',\n",
       " 'йог',\n",
       " 'йог',\n",
       " 'каждый',\n",
       " 'кардио',\n",
       " 'катание',\n",
       " 'катание',\n",
       " 'катание',\n",
       " 'катание',\n",
       " 'киберспорт',\n",
       " 'командный',\n",
       " 'конный',\n",
       " 'крлинга',\n",
       " 'кроссфита',\n",
       " 'лицо',\n",
       " 'лыжа',\n",
       " 'лыжа',\n",
       " 'лыжа',\n",
       " 'лыжа',\n",
       " 'лыжа',\n",
       " 'лыжа',\n",
       " 'лыжа',\n",
       " 'лёгкий',\n",
       " 'многие',\n",
       " 'настольный',\n",
       " 'настольный',\n",
       " 'настольный',\n",
       " 'настольный',\n",
       " 'ориентирование',\n",
       " 'ответить',\n",
       " 'пилатёс',\n",
       " 'плавание',\n",
       " 'плавание',\n",
       " 'плавание',\n",
       " 'плавание',\n",
       " 'плавание',\n",
       " 'плавание',\n",
       " 'плавание',\n",
       " 'плавание',\n",
       " 'плавание',\n",
       " 'плавание',\n",
       " 'плавание',\n",
       " 'плавание',\n",
       " 'плавание',\n",
       " 'плавание',\n",
       " 'плавание',\n",
       " 'плавание',\n",
       " 'плавание',\n",
       " 'препятствие',\n",
       " 'равнодушный',\n",
       " 'регулярно',\n",
       " 'ролик',\n",
       " 'рукопашный',\n",
       " 'скалолазание',\n",
       " 'скандинавский',\n",
       " 'смешанный',\n",
       " 'сноуборд',\n",
       " 'сноуборд',\n",
       " 'сноуборд',\n",
       " 'сноуборд',\n",
       " 'сноубординг',\n",
       " 'сноубординг',\n",
       " 'сон',\n",
       " 'спорт',\n",
       " 'спорт',\n",
       " 'спорт',\n",
       " 'спорт',\n",
       " 'спорт',\n",
       " 'танец',\n",
       " 'теннис',\n",
       " 'теннис',\n",
       " 'теннис',\n",
       " 'теннис',\n",
       " 'теннис',\n",
       " 'теннис',\n",
       " 'теннис',\n",
       " 'теннис',\n",
       " 'тренажёр',\n",
       " 'тренер',\n",
       " 'туристический',\n",
       " 'турник',\n",
       " 'тхэквондо',\n",
       " 'фигурный',\n",
       " 'фигурный',\n",
       " 'фигурный',\n",
       " 'фигурный',\n",
       " 'фитнес',\n",
       " 'футбол',\n",
       " 'футбол',\n",
       " 'футбол',\n",
       " 'футбол',\n",
       " 'футбол',\n",
       " 'футбол',\n",
       " 'футбол',\n",
       " 'футбол',\n",
       " 'футбол',\n",
       " 'футбол',\n",
       " 'ходить',\n",
       " 'ходьба',\n",
       " 'ходьба',\n",
       " 'ходьба',\n",
       " 'ходьба',\n",
       " 'ходьба',\n",
       " 'ходьба',\n",
       " 'ходьба',\n",
       " 'ходьба',\n",
       " 'ходьба',\n",
       " 'хоккей',\n",
       " 'хоккей',\n",
       " 'хоккей',\n",
       " 'хороший',\n",
       " 'художественный',\n",
       " 'художественный',\n",
       " 'шахматы',\n",
       " 'шахматы',\n",
       " 'шахматы',\n",
       " 'шахматы',\n",
       " 'яхтинг']"
      ]
     },
     "execution_count": 20,
     "metadata": {},
     "output_type": "execute_result"
    }
   ],
   "source": [
    "words_sport = token_func(words_sport,'words_sport')#токенизация по видам спорта\n",
    "words_sport.sort()\n",
    "words_sport"
   ]
  },
  {
   "cell_type": "code",
   "execution_count": null,
   "id": "325ea922",
   "metadata": {},
   "outputs": [],
   "source": [
    "#Выполнить подсчёт количества вхождений слов (для признаков из шага 2)"
   ]
  },
  {
   "cell_type": "code",
   "execution_count": 23,
   "id": "2ad066e7",
   "metadata": {},
   "outputs": [
    {
     "data": {
      "text/html": [
       "<div>\n",
       "<style scoped>\n",
       "    .dataframe tbody tr th:only-of-type {\n",
       "        vertical-align: middle;\n",
       "    }\n",
       "\n",
       "    .dataframe tbody tr th {\n",
       "        vertical-align: top;\n",
       "    }\n",
       "\n",
       "    .dataframe thead th {\n",
       "        text-align: right;\n",
       "    }\n",
       "</style>\n",
       "<table border=\"1\" class=\"dataframe\">\n",
       "  <thead>\n",
       "    <tr style=\"text-align: right;\">\n",
       "      <th></th>\n",
       "      <th>film</th>\n",
       "      <th>count</th>\n",
       "    </tr>\n",
       "  </thead>\n",
       "  <tbody>\n",
       "    <tr>\n",
       "      <th>0</th>\n",
       "      <td>зелёный</td>\n",
       "      <td>12</td>\n",
       "    </tr>\n",
       "    <tr>\n",
       "      <th>1</th>\n",
       "      <td>миля</td>\n",
       "      <td>10</td>\n",
       "    </tr>\n",
       "    <tr>\n",
       "      <th>2</th>\n",
       "      <td>начало</td>\n",
       "      <td>10</td>\n",
       "    </tr>\n",
       "    <tr>\n",
       "      <th>3</th>\n",
       "      <td>интерстеллара</td>\n",
       "      <td>7</td>\n",
       "    </tr>\n",
       "    <tr>\n",
       "      <th>4</th>\n",
       "      <td>игра</td>\n",
       "      <td>5</td>\n",
       "    </tr>\n",
       "    <tr>\n",
       "      <th>5</th>\n",
       "      <td>фильм</td>\n",
       "      <td>5</td>\n",
       "    </tr>\n",
       "    <tr>\n",
       "      <th>6</th>\n",
       "      <td>человек</td>\n",
       "      <td>5</td>\n",
       "    </tr>\n",
       "    <tr>\n",
       "      <th>7</th>\n",
       "      <td>всё</td>\n",
       "      <td>4</td>\n",
       "    </tr>\n",
       "    <tr>\n",
       "      <th>8</th>\n",
       "      <td>остров</td>\n",
       "      <td>4</td>\n",
       "    </tr>\n",
       "    <tr>\n",
       "      <th>9</th>\n",
       "      <td>проклятый</td>\n",
       "      <td>4</td>\n",
       "    </tr>\n",
       "    <tr>\n",
       "      <th>10</th>\n",
       "      <td>совесть</td>\n",
       "      <td>4</td>\n",
       "    </tr>\n",
       "    <tr>\n",
       "      <th>11</th>\n",
       "      <td>соображение</td>\n",
       "      <td>4</td>\n",
       "    </tr>\n",
       "    <tr>\n",
       "      <th>12</th>\n",
       "      <td>адалин</td>\n",
       "      <td>3</td>\n",
       "    </tr>\n",
       "    <tr>\n",
       "      <th>13</th>\n",
       "      <td>век</td>\n",
       "      <td>3</td>\n",
       "    </tr>\n",
       "    <tr>\n",
       "      <th>14</th>\n",
       "      <td>властелин</td>\n",
       "      <td>3</td>\n",
       "    </tr>\n",
       "    <tr>\n",
       "      <th>15</th>\n",
       "      <td>волк</td>\n",
       "      <td>3</td>\n",
       "    </tr>\n",
       "    <tr>\n",
       "      <th>16</th>\n",
       "      <td>гампа</td>\n",
       "      <td>3</td>\n",
       "    </tr>\n",
       "    <tr>\n",
       "      <th>17</th>\n",
       "      <td>гордость</td>\n",
       "      <td>3</td>\n",
       "    </tr>\n",
       "    <tr>\n",
       "      <th>18</th>\n",
       "      <td>джентльмен</td>\n",
       "      <td>3</td>\n",
       "    </tr>\n",
       "    <tr>\n",
       "      <th>19</th>\n",
       "      <td>дневник</td>\n",
       "      <td>3</td>\n",
       "    </tr>\n",
       "  </tbody>\n",
       "</table>\n",
       "</div>"
      ],
      "text/plain": [
       "             film  count\n",
       "0         зелёный     12\n",
       "1            миля     10\n",
       "2          начало     10\n",
       "3   интерстеллара      7\n",
       "4            игра      5\n",
       "5           фильм      5\n",
       "6         человек      5\n",
       "7             всё      4\n",
       "8          остров      4\n",
       "9       проклятый      4\n",
       "10        совесть      4\n",
       "11    соображение      4\n",
       "12         адалин      3\n",
       "13            век      3\n",
       "14      властелин      3\n",
       "15           волк      3\n",
       "16          гампа      3\n",
       "17       гордость      3\n",
       "18     джентльмен      3\n",
       "19        дневник      3"
      ]
     },
     "execution_count": 23,
     "metadata": {},
     "output_type": "execute_result"
    }
   ],
   "source": [
    "count_film = Counter()\n",
    "count_film.update(film)\n",
    "wc_top20 = count_film.most_common(20)\n",
    "dfilm = pd.DataFrame(wc_top20, columns = ['film', 'count'])\n",
    "dfilm\n"
   ]
  },
  {
   "cell_type": "code",
   "execution_count": 28,
   "id": "3f7b2204",
   "metadata": {},
   "outputs": [],
   "source": [
    "count_expectation = Counter()\n",
    "count_expectation.update(words_expectation)\n",
    "exp_top50 = count_expectation.most_common(50)\n",
    "dexp = pd.DataFrame(exp_top50,columns = ['expectation','count'])\n",
    "#exp_top50                                       "
   ]
  },
  {
   "cell_type": "code",
   "execution_count": 22,
   "id": "fa6a0fc0",
   "metadata": {},
   "outputs": [
    {
     "data": {
      "text/plain": [
       "[('плавание', 17),\n",
       " ('волейбол', 11),\n",
       " ('футбол', 10),\n",
       " ('ходьба', 9),\n",
       " ('бег', 8),\n",
       " ('теннис', 8),\n",
       " ('лыжа', 7),\n",
       " ('йог', 6),\n",
       " ('борьба', 5),\n",
       " ('велосипед', 5),\n",
       " ('спорт', 5),\n",
       " ('баскетбол', 4),\n",
       " ('заниматься', 4),\n",
       " ('катание', 4),\n",
       " ('настольный', 4),\n",
       " ('сноуборд', 4),\n",
       " ('фигурный', 4),\n",
       " ('шахматы', 4),\n",
       " ('атлетика', 3),\n",
       " ('биатлон', 3)]"
      ]
     },
     "execution_count": 22,
     "metadata": {},
     "output_type": "execute_result"
    }
   ],
   "source": [
    "count_sport = Counter()\n",
    "count_sport.update(words_sport)\n",
    "sport_top20 = count_sport.most_common(20)\n",
    "dsport = pd.DataFrame(sport_top20,columns = ['sport','count'])\n",
    "sport_top20"
   ]
  },
  {
   "cell_type": "code",
   "execution_count": null,
   "id": "0efd8202",
   "metadata": {},
   "outputs": [],
   "source": [
    "#Построить гистограмму по популярным видам спорта (20 видов), treepmap по фильмам (20 слов), \n",
    "#облако слов из топ 50 слов по признаку ожидание от курса."
   ]
  },
  {
   "cell_type": "code",
   "execution_count": 35,
   "id": "861ccb91",
   "metadata": {},
   "outputs": [
    {
     "data": {
      "application/vnd.plotly.v1+json": {
       "config": {
        "plotlyServerURL": "https://plot.ly"
       },
       "data": [
        {
         "alignmentgroup": "True",
         "hovertemplate": "sport=%{x}<br>count=%{marker.color}<extra></extra>",
         "legendgroup": "",
         "marker": {
          "color": [
           17,
           11,
           10,
           9,
           8,
           8,
           7,
           6,
           5,
           5,
           5,
           4,
           4,
           4,
           4,
           4,
           4,
           4,
           3,
           3
          ],
          "coloraxis": "coloraxis",
          "pattern": {
           "shape": ""
          }
         },
         "name": "",
         "offsetgroup": "",
         "orientation": "v",
         "showlegend": false,
         "textposition": "auto",
         "texttemplate": "%{y}",
         "type": "bar",
         "x": [
          "плавание",
          "волейбол",
          "футбол",
          "ходьба",
          "бег",
          "теннис",
          "лыжа",
          "йог",
          "борьба",
          "велосипед",
          "спорт",
          "баскетбол",
          "заниматься",
          "катание",
          "настольный",
          "сноуборд",
          "фигурный",
          "шахматы",
          "атлетика",
          "биатлон"
         ],
         "xaxis": "x",
         "y": [
          17,
          11,
          10,
          9,
          8,
          8,
          7,
          6,
          5,
          5,
          5,
          4,
          4,
          4,
          4,
          4,
          4,
          4,
          3,
          3
         ],
         "yaxis": "y"
        }
       ],
       "layout": {
        "barmode": "relative",
        "coloraxis": {
         "colorbar": {
          "title": {
           "text": "count"
          }
         },
         "colorscale": [
          [
           0,
           "#0d0887"
          ],
          [
           0.1111111111111111,
           "#46039f"
          ],
          [
           0.2222222222222222,
           "#7201a8"
          ],
          [
           0.3333333333333333,
           "#9c179e"
          ],
          [
           0.4444444444444444,
           "#bd3786"
          ],
          [
           0.5555555555555556,
           "#d8576b"
          ],
          [
           0.6666666666666666,
           "#ed7953"
          ],
          [
           0.7777777777777778,
           "#fb9f3a"
          ],
          [
           0.8888888888888888,
           "#fdca26"
          ],
          [
           1,
           "#f0f921"
          ]
         ]
        },
        "legend": {
         "tracegroupgap": 0
        },
        "margin": {
         "t": 60
        },
        "template": {
         "data": {
          "bar": [
           {
            "error_x": {
             "color": "#2a3f5f"
            },
            "error_y": {
             "color": "#2a3f5f"
            },
            "marker": {
             "line": {
              "color": "#E5ECF6",
              "width": 0.5
             },
             "pattern": {
              "fillmode": "overlay",
              "size": 10,
              "solidity": 0.2
             }
            },
            "type": "bar"
           }
          ],
          "barpolar": [
           {
            "marker": {
             "line": {
              "color": "#E5ECF6",
              "width": 0.5
             },
             "pattern": {
              "fillmode": "overlay",
              "size": 10,
              "solidity": 0.2
             }
            },
            "type": "barpolar"
           }
          ],
          "carpet": [
           {
            "aaxis": {
             "endlinecolor": "#2a3f5f",
             "gridcolor": "white",
             "linecolor": "white",
             "minorgridcolor": "white",
             "startlinecolor": "#2a3f5f"
            },
            "baxis": {
             "endlinecolor": "#2a3f5f",
             "gridcolor": "white",
             "linecolor": "white",
             "minorgridcolor": "white",
             "startlinecolor": "#2a3f5f"
            },
            "type": "carpet"
           }
          ],
          "choropleth": [
           {
            "colorbar": {
             "outlinewidth": 0,
             "ticks": ""
            },
            "type": "choropleth"
           }
          ],
          "contour": [
           {
            "colorbar": {
             "outlinewidth": 0,
             "ticks": ""
            },
            "colorscale": [
             [
              0,
              "#0d0887"
             ],
             [
              0.1111111111111111,
              "#46039f"
             ],
             [
              0.2222222222222222,
              "#7201a8"
             ],
             [
              0.3333333333333333,
              "#9c179e"
             ],
             [
              0.4444444444444444,
              "#bd3786"
             ],
             [
              0.5555555555555556,
              "#d8576b"
             ],
             [
              0.6666666666666666,
              "#ed7953"
             ],
             [
              0.7777777777777778,
              "#fb9f3a"
             ],
             [
              0.8888888888888888,
              "#fdca26"
             ],
             [
              1,
              "#f0f921"
             ]
            ],
            "type": "contour"
           }
          ],
          "contourcarpet": [
           {
            "colorbar": {
             "outlinewidth": 0,
             "ticks": ""
            },
            "type": "contourcarpet"
           }
          ],
          "heatmap": [
           {
            "colorbar": {
             "outlinewidth": 0,
             "ticks": ""
            },
            "colorscale": [
             [
              0,
              "#0d0887"
             ],
             [
              0.1111111111111111,
              "#46039f"
             ],
             [
              0.2222222222222222,
              "#7201a8"
             ],
             [
              0.3333333333333333,
              "#9c179e"
             ],
             [
              0.4444444444444444,
              "#bd3786"
             ],
             [
              0.5555555555555556,
              "#d8576b"
             ],
             [
              0.6666666666666666,
              "#ed7953"
             ],
             [
              0.7777777777777778,
              "#fb9f3a"
             ],
             [
              0.8888888888888888,
              "#fdca26"
             ],
             [
              1,
              "#f0f921"
             ]
            ],
            "type": "heatmap"
           }
          ],
          "heatmapgl": [
           {
            "colorbar": {
             "outlinewidth": 0,
             "ticks": ""
            },
            "colorscale": [
             [
              0,
              "#0d0887"
             ],
             [
              0.1111111111111111,
              "#46039f"
             ],
             [
              0.2222222222222222,
              "#7201a8"
             ],
             [
              0.3333333333333333,
              "#9c179e"
             ],
             [
              0.4444444444444444,
              "#bd3786"
             ],
             [
              0.5555555555555556,
              "#d8576b"
             ],
             [
              0.6666666666666666,
              "#ed7953"
             ],
             [
              0.7777777777777778,
              "#fb9f3a"
             ],
             [
              0.8888888888888888,
              "#fdca26"
             ],
             [
              1,
              "#f0f921"
             ]
            ],
            "type": "heatmapgl"
           }
          ],
          "histogram": [
           {
            "marker": {
             "pattern": {
              "fillmode": "overlay",
              "size": 10,
              "solidity": 0.2
             }
            },
            "type": "histogram"
           }
          ],
          "histogram2d": [
           {
            "colorbar": {
             "outlinewidth": 0,
             "ticks": ""
            },
            "colorscale": [
             [
              0,
              "#0d0887"
             ],
             [
              0.1111111111111111,
              "#46039f"
             ],
             [
              0.2222222222222222,
              "#7201a8"
             ],
             [
              0.3333333333333333,
              "#9c179e"
             ],
             [
              0.4444444444444444,
              "#bd3786"
             ],
             [
              0.5555555555555556,
              "#d8576b"
             ],
             [
              0.6666666666666666,
              "#ed7953"
             ],
             [
              0.7777777777777778,
              "#fb9f3a"
             ],
             [
              0.8888888888888888,
              "#fdca26"
             ],
             [
              1,
              "#f0f921"
             ]
            ],
            "type": "histogram2d"
           }
          ],
          "histogram2dcontour": [
           {
            "colorbar": {
             "outlinewidth": 0,
             "ticks": ""
            },
            "colorscale": [
             [
              0,
              "#0d0887"
             ],
             [
              0.1111111111111111,
              "#46039f"
             ],
             [
              0.2222222222222222,
              "#7201a8"
             ],
             [
              0.3333333333333333,
              "#9c179e"
             ],
             [
              0.4444444444444444,
              "#bd3786"
             ],
             [
              0.5555555555555556,
              "#d8576b"
             ],
             [
              0.6666666666666666,
              "#ed7953"
             ],
             [
              0.7777777777777778,
              "#fb9f3a"
             ],
             [
              0.8888888888888888,
              "#fdca26"
             ],
             [
              1,
              "#f0f921"
             ]
            ],
            "type": "histogram2dcontour"
           }
          ],
          "mesh3d": [
           {
            "colorbar": {
             "outlinewidth": 0,
             "ticks": ""
            },
            "type": "mesh3d"
           }
          ],
          "parcoords": [
           {
            "line": {
             "colorbar": {
              "outlinewidth": 0,
              "ticks": ""
             }
            },
            "type": "parcoords"
           }
          ],
          "pie": [
           {
            "automargin": true,
            "type": "pie"
           }
          ],
          "scatter": [
           {
            "fillpattern": {
             "fillmode": "overlay",
             "size": 10,
             "solidity": 0.2
            },
            "type": "scatter"
           }
          ],
          "scatter3d": [
           {
            "line": {
             "colorbar": {
              "outlinewidth": 0,
              "ticks": ""
             }
            },
            "marker": {
             "colorbar": {
              "outlinewidth": 0,
              "ticks": ""
             }
            },
            "type": "scatter3d"
           }
          ],
          "scattercarpet": [
           {
            "marker": {
             "colorbar": {
              "outlinewidth": 0,
              "ticks": ""
             }
            },
            "type": "scattercarpet"
           }
          ],
          "scattergeo": [
           {
            "marker": {
             "colorbar": {
              "outlinewidth": 0,
              "ticks": ""
             }
            },
            "type": "scattergeo"
           }
          ],
          "scattergl": [
           {
            "marker": {
             "colorbar": {
              "outlinewidth": 0,
              "ticks": ""
             }
            },
            "type": "scattergl"
           }
          ],
          "scattermapbox": [
           {
            "marker": {
             "colorbar": {
              "outlinewidth": 0,
              "ticks": ""
             }
            },
            "type": "scattermapbox"
           }
          ],
          "scatterpolar": [
           {
            "marker": {
             "colorbar": {
              "outlinewidth": 0,
              "ticks": ""
             }
            },
            "type": "scatterpolar"
           }
          ],
          "scatterpolargl": [
           {
            "marker": {
             "colorbar": {
              "outlinewidth": 0,
              "ticks": ""
             }
            },
            "type": "scatterpolargl"
           }
          ],
          "scatterternary": [
           {
            "marker": {
             "colorbar": {
              "outlinewidth": 0,
              "ticks": ""
             }
            },
            "type": "scatterternary"
           }
          ],
          "surface": [
           {
            "colorbar": {
             "outlinewidth": 0,
             "ticks": ""
            },
            "colorscale": [
             [
              0,
              "#0d0887"
             ],
             [
              0.1111111111111111,
              "#46039f"
             ],
             [
              0.2222222222222222,
              "#7201a8"
             ],
             [
              0.3333333333333333,
              "#9c179e"
             ],
             [
              0.4444444444444444,
              "#bd3786"
             ],
             [
              0.5555555555555556,
              "#d8576b"
             ],
             [
              0.6666666666666666,
              "#ed7953"
             ],
             [
              0.7777777777777778,
              "#fb9f3a"
             ],
             [
              0.8888888888888888,
              "#fdca26"
             ],
             [
              1,
              "#f0f921"
             ]
            ],
            "type": "surface"
           }
          ],
          "table": [
           {
            "cells": {
             "fill": {
              "color": "#EBF0F8"
             },
             "line": {
              "color": "white"
             }
            },
            "header": {
             "fill": {
              "color": "#C8D4E3"
             },
             "line": {
              "color": "white"
             }
            },
            "type": "table"
           }
          ]
         },
         "layout": {
          "annotationdefaults": {
           "arrowcolor": "#2a3f5f",
           "arrowhead": 0,
           "arrowwidth": 1
          },
          "autotypenumbers": "strict",
          "coloraxis": {
           "colorbar": {
            "outlinewidth": 0,
            "ticks": ""
           }
          },
          "colorscale": {
           "diverging": [
            [
             0,
             "#8e0152"
            ],
            [
             0.1,
             "#c51b7d"
            ],
            [
             0.2,
             "#de77ae"
            ],
            [
             0.3,
             "#f1b6da"
            ],
            [
             0.4,
             "#fde0ef"
            ],
            [
             0.5,
             "#f7f7f7"
            ],
            [
             0.6,
             "#e6f5d0"
            ],
            [
             0.7,
             "#b8e186"
            ],
            [
             0.8,
             "#7fbc41"
            ],
            [
             0.9,
             "#4d9221"
            ],
            [
             1,
             "#276419"
            ]
           ],
           "sequential": [
            [
             0,
             "#0d0887"
            ],
            [
             0.1111111111111111,
             "#46039f"
            ],
            [
             0.2222222222222222,
             "#7201a8"
            ],
            [
             0.3333333333333333,
             "#9c179e"
            ],
            [
             0.4444444444444444,
             "#bd3786"
            ],
            [
             0.5555555555555556,
             "#d8576b"
            ],
            [
             0.6666666666666666,
             "#ed7953"
            ],
            [
             0.7777777777777778,
             "#fb9f3a"
            ],
            [
             0.8888888888888888,
             "#fdca26"
            ],
            [
             1,
             "#f0f921"
            ]
           ],
           "sequentialminus": [
            [
             0,
             "#0d0887"
            ],
            [
             0.1111111111111111,
             "#46039f"
            ],
            [
             0.2222222222222222,
             "#7201a8"
            ],
            [
             0.3333333333333333,
             "#9c179e"
            ],
            [
             0.4444444444444444,
             "#bd3786"
            ],
            [
             0.5555555555555556,
             "#d8576b"
            ],
            [
             0.6666666666666666,
             "#ed7953"
            ],
            [
             0.7777777777777778,
             "#fb9f3a"
            ],
            [
             0.8888888888888888,
             "#fdca26"
            ],
            [
             1,
             "#f0f921"
            ]
           ]
          },
          "colorway": [
           "#636efa",
           "#EF553B",
           "#00cc96",
           "#ab63fa",
           "#FFA15A",
           "#19d3f3",
           "#FF6692",
           "#B6E880",
           "#FF97FF",
           "#FECB52"
          ],
          "font": {
           "color": "#2a3f5f"
          },
          "geo": {
           "bgcolor": "white",
           "lakecolor": "white",
           "landcolor": "#E5ECF6",
           "showlakes": true,
           "showland": true,
           "subunitcolor": "white"
          },
          "hoverlabel": {
           "align": "left"
          },
          "hovermode": "closest",
          "mapbox": {
           "style": "light"
          },
          "paper_bgcolor": "white",
          "plot_bgcolor": "#E5ECF6",
          "polar": {
           "angularaxis": {
            "gridcolor": "white",
            "linecolor": "white",
            "ticks": ""
           },
           "bgcolor": "#E5ECF6",
           "radialaxis": {
            "gridcolor": "white",
            "linecolor": "white",
            "ticks": ""
           }
          },
          "scene": {
           "xaxis": {
            "backgroundcolor": "#E5ECF6",
            "gridcolor": "white",
            "gridwidth": 2,
            "linecolor": "white",
            "showbackground": true,
            "ticks": "",
            "zerolinecolor": "white"
           },
           "yaxis": {
            "backgroundcolor": "#E5ECF6",
            "gridcolor": "white",
            "gridwidth": 2,
            "linecolor": "white",
            "showbackground": true,
            "ticks": "",
            "zerolinecolor": "white"
           },
           "zaxis": {
            "backgroundcolor": "#E5ECF6",
            "gridcolor": "white",
            "gridwidth": 2,
            "linecolor": "white",
            "showbackground": true,
            "ticks": "",
            "zerolinecolor": "white"
           }
          },
          "shapedefaults": {
           "line": {
            "color": "#2a3f5f"
           }
          },
          "ternary": {
           "aaxis": {
            "gridcolor": "white",
            "linecolor": "white",
            "ticks": ""
           },
           "baxis": {
            "gridcolor": "white",
            "linecolor": "white",
            "ticks": ""
           },
           "bgcolor": "#E5ECF6",
           "caxis": {
            "gridcolor": "white",
            "linecolor": "white",
            "ticks": ""
           }
          },
          "title": {
           "x": 0.05
          },
          "xaxis": {
           "automargin": true,
           "gridcolor": "white",
           "linecolor": "white",
           "ticks": "",
           "title": {
            "standoff": 15
           },
           "zerolinecolor": "white",
           "zerolinewidth": 2
          },
          "yaxis": {
           "automargin": true,
           "gridcolor": "white",
           "linecolor": "white",
           "ticks": "",
           "title": {
            "standoff": 15
           },
           "zerolinecolor": "white",
           "zerolinewidth": 2
          }
         }
        },
        "xaxis": {
         "anchor": "y",
         "domain": [
          0,
          1
         ],
         "title": {
          "text": "sport"
         }
        },
        "yaxis": {
         "anchor": "x",
         "domain": [
          0,
          1
         ],
         "title": {
          "text": "count"
         }
        }
       }
      },
      "text/html": [
       "<div>                            <div id=\"5555eab9-6b29-4452-8198-7236eb657d18\" class=\"plotly-graph-div\" style=\"height:525px; width:100%;\"></div>            <script type=\"text/javascript\">                require([\"plotly\"], function(Plotly) {                    window.PLOTLYENV=window.PLOTLYENV || {};                                    if (document.getElementById(\"5555eab9-6b29-4452-8198-7236eb657d18\")) {                    Plotly.newPlot(                        \"5555eab9-6b29-4452-8198-7236eb657d18\",                        [{\"alignmentgroup\":\"True\",\"hovertemplate\":\"sport=%{x}<br>count=%{marker.color}<extra></extra>\",\"legendgroup\":\"\",\"marker\":{\"color\":[17,11,10,9,8,8,7,6,5,5,5,4,4,4,4,4,4,4,3,3],\"coloraxis\":\"coloraxis\",\"pattern\":{\"shape\":\"\"}},\"name\":\"\",\"offsetgroup\":\"\",\"orientation\":\"v\",\"showlegend\":false,\"textposition\":\"auto\",\"texttemplate\":\"%{y}\",\"x\":[\"\\u043f\\u043b\\u0430\\u0432\\u0430\\u043d\\u0438\\u0435\",\"\\u0432\\u043e\\u043b\\u0435\\u0439\\u0431\\u043e\\u043b\",\"\\u0444\\u0443\\u0442\\u0431\\u043e\\u043b\",\"\\u0445\\u043e\\u0434\\u044c\\u0431\\u0430\",\"\\u0431\\u0435\\u0433\",\"\\u0442\\u0435\\u043d\\u043d\\u0438\\u0441\",\"\\u043b\\u044b\\u0436\\u0430\",\"\\u0439\\u043e\\u0433\",\"\\u0431\\u043e\\u0440\\u044c\\u0431\\u0430\",\"\\u0432\\u0435\\u043b\\u043e\\u0441\\u0438\\u043f\\u0435\\u0434\",\"\\u0441\\u043f\\u043e\\u0440\\u0442\",\"\\u0431\\u0430\\u0441\\u043a\\u0435\\u0442\\u0431\\u043e\\u043b\",\"\\u0437\\u0430\\u043d\\u0438\\u043c\\u0430\\u0442\\u044c\\u0441\\u044f\",\"\\u043a\\u0430\\u0442\\u0430\\u043d\\u0438\\u0435\",\"\\u043d\\u0430\\u0441\\u0442\\u043e\\u043b\\u044c\\u043d\\u044b\\u0439\",\"\\u0441\\u043d\\u043e\\u0443\\u0431\\u043e\\u0440\\u0434\",\"\\u0444\\u0438\\u0433\\u0443\\u0440\\u043d\\u044b\\u0439\",\"\\u0448\\u0430\\u0445\\u043c\\u0430\\u0442\\u044b\",\"\\u0430\\u0442\\u043b\\u0435\\u0442\\u0438\\u043a\\u0430\",\"\\u0431\\u0438\\u0430\\u0442\\u043b\\u043e\\u043d\"],\"xaxis\":\"x\",\"y\":[17,11,10,9,8,8,7,6,5,5,5,4,4,4,4,4,4,4,3,3],\"yaxis\":\"y\",\"type\":\"bar\"}],                        {\"template\":{\"data\":{\"histogram2dcontour\":[{\"type\":\"histogram2dcontour\",\"colorbar\":{\"outlinewidth\":0,\"ticks\":\"\"},\"colorscale\":[[0.0,\"#0d0887\"],[0.1111111111111111,\"#46039f\"],[0.2222222222222222,\"#7201a8\"],[0.3333333333333333,\"#9c179e\"],[0.4444444444444444,\"#bd3786\"],[0.5555555555555556,\"#d8576b\"],[0.6666666666666666,\"#ed7953\"],[0.7777777777777778,\"#fb9f3a\"],[0.8888888888888888,\"#fdca26\"],[1.0,\"#f0f921\"]]}],\"choropleth\":[{\"type\":\"choropleth\",\"colorbar\":{\"outlinewidth\":0,\"ticks\":\"\"}}],\"histogram2d\":[{\"type\":\"histogram2d\",\"colorbar\":{\"outlinewidth\":0,\"ticks\":\"\"},\"colorscale\":[[0.0,\"#0d0887\"],[0.1111111111111111,\"#46039f\"],[0.2222222222222222,\"#7201a8\"],[0.3333333333333333,\"#9c179e\"],[0.4444444444444444,\"#bd3786\"],[0.5555555555555556,\"#d8576b\"],[0.6666666666666666,\"#ed7953\"],[0.7777777777777778,\"#fb9f3a\"],[0.8888888888888888,\"#fdca26\"],[1.0,\"#f0f921\"]]}],\"heatmap\":[{\"type\":\"heatmap\",\"colorbar\":{\"outlinewidth\":0,\"ticks\":\"\"},\"colorscale\":[[0.0,\"#0d0887\"],[0.1111111111111111,\"#46039f\"],[0.2222222222222222,\"#7201a8\"],[0.3333333333333333,\"#9c179e\"],[0.4444444444444444,\"#bd3786\"],[0.5555555555555556,\"#d8576b\"],[0.6666666666666666,\"#ed7953\"],[0.7777777777777778,\"#fb9f3a\"],[0.8888888888888888,\"#fdca26\"],[1.0,\"#f0f921\"]]}],\"heatmapgl\":[{\"type\":\"heatmapgl\",\"colorbar\":{\"outlinewidth\":0,\"ticks\":\"\"},\"colorscale\":[[0.0,\"#0d0887\"],[0.1111111111111111,\"#46039f\"],[0.2222222222222222,\"#7201a8\"],[0.3333333333333333,\"#9c179e\"],[0.4444444444444444,\"#bd3786\"],[0.5555555555555556,\"#d8576b\"],[0.6666666666666666,\"#ed7953\"],[0.7777777777777778,\"#fb9f3a\"],[0.8888888888888888,\"#fdca26\"],[1.0,\"#f0f921\"]]}],\"contourcarpet\":[{\"type\":\"contourcarpet\",\"colorbar\":{\"outlinewidth\":0,\"ticks\":\"\"}}],\"contour\":[{\"type\":\"contour\",\"colorbar\":{\"outlinewidth\":0,\"ticks\":\"\"},\"colorscale\":[[0.0,\"#0d0887\"],[0.1111111111111111,\"#46039f\"],[0.2222222222222222,\"#7201a8\"],[0.3333333333333333,\"#9c179e\"],[0.4444444444444444,\"#bd3786\"],[0.5555555555555556,\"#d8576b\"],[0.6666666666666666,\"#ed7953\"],[0.7777777777777778,\"#fb9f3a\"],[0.8888888888888888,\"#fdca26\"],[1.0,\"#f0f921\"]]}],\"surface\":[{\"type\":\"surface\",\"colorbar\":{\"outlinewidth\":0,\"ticks\":\"\"},\"colorscale\":[[0.0,\"#0d0887\"],[0.1111111111111111,\"#46039f\"],[0.2222222222222222,\"#7201a8\"],[0.3333333333333333,\"#9c179e\"],[0.4444444444444444,\"#bd3786\"],[0.5555555555555556,\"#d8576b\"],[0.6666666666666666,\"#ed7953\"],[0.7777777777777778,\"#fb9f3a\"],[0.8888888888888888,\"#fdca26\"],[1.0,\"#f0f921\"]]}],\"mesh3d\":[{\"type\":\"mesh3d\",\"colorbar\":{\"outlinewidth\":0,\"ticks\":\"\"}}],\"scatter\":[{\"fillpattern\":{\"fillmode\":\"overlay\",\"size\":10,\"solidity\":0.2},\"type\":\"scatter\"}],\"parcoords\":[{\"type\":\"parcoords\",\"line\":{\"colorbar\":{\"outlinewidth\":0,\"ticks\":\"\"}}}],\"scatterpolargl\":[{\"type\":\"scatterpolargl\",\"marker\":{\"colorbar\":{\"outlinewidth\":0,\"ticks\":\"\"}}}],\"bar\":[{\"error_x\":{\"color\":\"#2a3f5f\"},\"error_y\":{\"color\":\"#2a3f5f\"},\"marker\":{\"line\":{\"color\":\"#E5ECF6\",\"width\":0.5},\"pattern\":{\"fillmode\":\"overlay\",\"size\":10,\"solidity\":0.2}},\"type\":\"bar\"}],\"scattergeo\":[{\"type\":\"scattergeo\",\"marker\":{\"colorbar\":{\"outlinewidth\":0,\"ticks\":\"\"}}}],\"scatterpolar\":[{\"type\":\"scatterpolar\",\"marker\":{\"colorbar\":{\"outlinewidth\":0,\"ticks\":\"\"}}}],\"histogram\":[{\"marker\":{\"pattern\":{\"fillmode\":\"overlay\",\"size\":10,\"solidity\":0.2}},\"type\":\"histogram\"}],\"scattergl\":[{\"type\":\"scattergl\",\"marker\":{\"colorbar\":{\"outlinewidth\":0,\"ticks\":\"\"}}}],\"scatter3d\":[{\"type\":\"scatter3d\",\"line\":{\"colorbar\":{\"outlinewidth\":0,\"ticks\":\"\"}},\"marker\":{\"colorbar\":{\"outlinewidth\":0,\"ticks\":\"\"}}}],\"scattermapbox\":[{\"type\":\"scattermapbox\",\"marker\":{\"colorbar\":{\"outlinewidth\":0,\"ticks\":\"\"}}}],\"scatterternary\":[{\"type\":\"scatterternary\",\"marker\":{\"colorbar\":{\"outlinewidth\":0,\"ticks\":\"\"}}}],\"scattercarpet\":[{\"type\":\"scattercarpet\",\"marker\":{\"colorbar\":{\"outlinewidth\":0,\"ticks\":\"\"}}}],\"carpet\":[{\"aaxis\":{\"endlinecolor\":\"#2a3f5f\",\"gridcolor\":\"white\",\"linecolor\":\"white\",\"minorgridcolor\":\"white\",\"startlinecolor\":\"#2a3f5f\"},\"baxis\":{\"endlinecolor\":\"#2a3f5f\",\"gridcolor\":\"white\",\"linecolor\":\"white\",\"minorgridcolor\":\"white\",\"startlinecolor\":\"#2a3f5f\"},\"type\":\"carpet\"}],\"table\":[{\"cells\":{\"fill\":{\"color\":\"#EBF0F8\"},\"line\":{\"color\":\"white\"}},\"header\":{\"fill\":{\"color\":\"#C8D4E3\"},\"line\":{\"color\":\"white\"}},\"type\":\"table\"}],\"barpolar\":[{\"marker\":{\"line\":{\"color\":\"#E5ECF6\",\"width\":0.5},\"pattern\":{\"fillmode\":\"overlay\",\"size\":10,\"solidity\":0.2}},\"type\":\"barpolar\"}],\"pie\":[{\"automargin\":true,\"type\":\"pie\"}]},\"layout\":{\"autotypenumbers\":\"strict\",\"colorway\":[\"#636efa\",\"#EF553B\",\"#00cc96\",\"#ab63fa\",\"#FFA15A\",\"#19d3f3\",\"#FF6692\",\"#B6E880\",\"#FF97FF\",\"#FECB52\"],\"font\":{\"color\":\"#2a3f5f\"},\"hovermode\":\"closest\",\"hoverlabel\":{\"align\":\"left\"},\"paper_bgcolor\":\"white\",\"plot_bgcolor\":\"#E5ECF6\",\"polar\":{\"bgcolor\":\"#E5ECF6\",\"angularaxis\":{\"gridcolor\":\"white\",\"linecolor\":\"white\",\"ticks\":\"\"},\"radialaxis\":{\"gridcolor\":\"white\",\"linecolor\":\"white\",\"ticks\":\"\"}},\"ternary\":{\"bgcolor\":\"#E5ECF6\",\"aaxis\":{\"gridcolor\":\"white\",\"linecolor\":\"white\",\"ticks\":\"\"},\"baxis\":{\"gridcolor\":\"white\",\"linecolor\":\"white\",\"ticks\":\"\"},\"caxis\":{\"gridcolor\":\"white\",\"linecolor\":\"white\",\"ticks\":\"\"}},\"coloraxis\":{\"colorbar\":{\"outlinewidth\":0,\"ticks\":\"\"}},\"colorscale\":{\"sequential\":[[0.0,\"#0d0887\"],[0.1111111111111111,\"#46039f\"],[0.2222222222222222,\"#7201a8\"],[0.3333333333333333,\"#9c179e\"],[0.4444444444444444,\"#bd3786\"],[0.5555555555555556,\"#d8576b\"],[0.6666666666666666,\"#ed7953\"],[0.7777777777777778,\"#fb9f3a\"],[0.8888888888888888,\"#fdca26\"],[1.0,\"#f0f921\"]],\"sequentialminus\":[[0.0,\"#0d0887\"],[0.1111111111111111,\"#46039f\"],[0.2222222222222222,\"#7201a8\"],[0.3333333333333333,\"#9c179e\"],[0.4444444444444444,\"#bd3786\"],[0.5555555555555556,\"#d8576b\"],[0.6666666666666666,\"#ed7953\"],[0.7777777777777778,\"#fb9f3a\"],[0.8888888888888888,\"#fdca26\"],[1.0,\"#f0f921\"]],\"diverging\":[[0,\"#8e0152\"],[0.1,\"#c51b7d\"],[0.2,\"#de77ae\"],[0.3,\"#f1b6da\"],[0.4,\"#fde0ef\"],[0.5,\"#f7f7f7\"],[0.6,\"#e6f5d0\"],[0.7,\"#b8e186\"],[0.8,\"#7fbc41\"],[0.9,\"#4d9221\"],[1,\"#276419\"]]},\"xaxis\":{\"gridcolor\":\"white\",\"linecolor\":\"white\",\"ticks\":\"\",\"title\":{\"standoff\":15},\"zerolinecolor\":\"white\",\"automargin\":true,\"zerolinewidth\":2},\"yaxis\":{\"gridcolor\":\"white\",\"linecolor\":\"white\",\"ticks\":\"\",\"title\":{\"standoff\":15},\"zerolinecolor\":\"white\",\"automargin\":true,\"zerolinewidth\":2},\"scene\":{\"xaxis\":{\"backgroundcolor\":\"#E5ECF6\",\"gridcolor\":\"white\",\"linecolor\":\"white\",\"showbackground\":true,\"ticks\":\"\",\"zerolinecolor\":\"white\",\"gridwidth\":2},\"yaxis\":{\"backgroundcolor\":\"#E5ECF6\",\"gridcolor\":\"white\",\"linecolor\":\"white\",\"showbackground\":true,\"ticks\":\"\",\"zerolinecolor\":\"white\",\"gridwidth\":2},\"zaxis\":{\"backgroundcolor\":\"#E5ECF6\",\"gridcolor\":\"white\",\"linecolor\":\"white\",\"showbackground\":true,\"ticks\":\"\",\"zerolinecolor\":\"white\",\"gridwidth\":2}},\"shapedefaults\":{\"line\":{\"color\":\"#2a3f5f\"}},\"annotationdefaults\":{\"arrowcolor\":\"#2a3f5f\",\"arrowhead\":0,\"arrowwidth\":1},\"geo\":{\"bgcolor\":\"white\",\"landcolor\":\"#E5ECF6\",\"subunitcolor\":\"white\",\"showland\":true,\"showlakes\":true,\"lakecolor\":\"white\"},\"title\":{\"x\":0.05},\"mapbox\":{\"style\":\"light\"}}},\"xaxis\":{\"anchor\":\"y\",\"domain\":[0.0,1.0],\"title\":{\"text\":\"sport\"}},\"yaxis\":{\"anchor\":\"x\",\"domain\":[0.0,1.0],\"title\":{\"text\":\"count\"}},\"coloraxis\":{\"colorbar\":{\"title\":{\"text\":\"count\"}},\"colorscale\":[[0.0,\"#0d0887\"],[0.1111111111111111,\"#46039f\"],[0.2222222222222222,\"#7201a8\"],[0.3333333333333333,\"#9c179e\"],[0.4444444444444444,\"#bd3786\"],[0.5555555555555556,\"#d8576b\"],[0.6666666666666666,\"#ed7953\"],[0.7777777777777778,\"#fb9f3a\"],[0.8888888888888888,\"#fdca26\"],[1.0,\"#f0f921\"]]},\"legend\":{\"tracegroupgap\":0},\"margin\":{\"t\":60},\"barmode\":\"relative\"},                        {\"responsive\": true}                    ).then(function(){\n",
       "                            \n",
       "var gd = document.getElementById('5555eab9-6b29-4452-8198-7236eb657d18');\n",
       "var x = new MutationObserver(function (mutations, observer) {{\n",
       "        var display = window.getComputedStyle(gd).display;\n",
       "        if (!display || display === 'none') {{\n",
       "            console.log([gd, 'removed!']);\n",
       "            Plotly.purge(gd);\n",
       "            observer.disconnect();\n",
       "        }}\n",
       "}});\n",
       "\n",
       "// Listen for the removal of the full notebook cells\n",
       "var notebookContainer = gd.closest('#notebook-container');\n",
       "if (notebookContainer) {{\n",
       "    x.observe(notebookContainer, {childList: true});\n",
       "}}\n",
       "\n",
       "// Listen for the clearing of the current output cell\n",
       "var outputEl = gd.closest('.output');\n",
       "if (outputEl) {{\n",
       "    x.observe(outputEl, {childList: true});\n",
       "}}\n",
       "\n",
       "                        })                };                });            </script>        </div>"
      ]
     },
     "metadata": {},
     "output_type": "display_data"
    }
   ],
   "source": [
    "#гистограмма по популярным видам спорта\n",
    "fig = px.bar(dsport, x='sport', y='count', color='count', text_auto=True)\n",
    "fig.show();"
   ]
  },
  {
   "cell_type": "code",
   "execution_count": 36,
   "id": "60d0470a",
   "metadata": {},
   "outputs": [
    {
     "data": {
      "application/vnd.plotly.v1+json": {
       "config": {
        "plotlyServerURL": "https://plot.ly"
       },
       "data": [
        {
         "branchvalues": "total",
         "customdata": [
          [
           "миля"
          ],
          [
           "начало"
          ],
          [
           "остров"
          ],
          [
           "проклятый"
          ],
          [
           "джентльмен"
          ],
          [
           "совесть"
          ],
          [
           "соображение"
          ],
          [
           "фильм"
          ],
          [
           "человек"
          ],
          [
           "адалин"
          ],
          [
           "всё"
          ],
          [
           "волк"
          ],
          [
           "век"
          ],
          [
           "властелин"
          ],
          [
           "дневник"
          ],
          [
           "зелёный"
          ],
          [
           "игра"
          ],
          [
           "интерстеллара"
          ],
          [
           "гампа"
          ],
          [
           "гордость"
          ]
         ],
         "domain": {
          "x": [
           0,
           1
          ],
          "y": [
           0,
           1
          ]
         },
         "hovertemplate": "labels=%{label}<br>count=%{value}<br>parent=%{parent}<br>id=%{id}<br>film=%{customdata[0]}<extra></extra>",
         "ids": [
          "миля",
          "начало",
          "остров",
          "проклятый",
          "джентльмен",
          "совесть",
          "соображение",
          "фильм",
          "человек",
          "адалин",
          "всё",
          "волк",
          "век",
          "властелин",
          "дневник",
          "зелёный",
          "игра",
          "интерстеллара",
          "гампа",
          "гордость"
         ],
         "labels": [
          "миля",
          "начало",
          "остров",
          "проклятый",
          "джентльмен",
          "совесть",
          "соображение",
          "фильм",
          "человек",
          "адалин",
          "всё",
          "волк",
          "век",
          "властелин",
          "дневник",
          "зелёный",
          "игра",
          "интерстеллара",
          "гампа",
          "гордость"
         ],
         "marker": {
          "colors": [
           "#636efa",
           "#EF553B",
           "#00cc96",
           "#ab63fa",
           "#FFA15A",
           "#19d3f3",
           "#FF6692",
           "#B6E880",
           "#FF97FF",
           "#FECB52",
           "#636efa",
           "#EF553B",
           "#00cc96",
           "#ab63fa",
           "#FFA15A",
           "#19d3f3",
           "#FF6692",
           "#B6E880",
           "#FF97FF",
           "#FECB52"
          ]
         },
         "name": "",
         "parents": [
          "",
          "",
          "",
          "",
          "",
          "",
          "",
          "",
          "",
          "",
          "",
          "",
          "",
          "",
          "",
          "",
          "",
          "",
          "",
          ""
         ],
         "type": "treemap",
         "values": [
          10,
          10,
          4,
          4,
          3,
          4,
          4,
          5,
          5,
          3,
          4,
          3,
          3,
          3,
          3,
          12,
          5,
          7,
          3,
          3
         ]
        }
       ],
       "layout": {
        "legend": {
         "tracegroupgap": 0
        },
        "margin": {
         "t": 60
        },
        "template": {
         "data": {
          "bar": [
           {
            "error_x": {
             "color": "#2a3f5f"
            },
            "error_y": {
             "color": "#2a3f5f"
            },
            "marker": {
             "line": {
              "color": "#E5ECF6",
              "width": 0.5
             },
             "pattern": {
              "fillmode": "overlay",
              "size": 10,
              "solidity": 0.2
             }
            },
            "type": "bar"
           }
          ],
          "barpolar": [
           {
            "marker": {
             "line": {
              "color": "#E5ECF6",
              "width": 0.5
             },
             "pattern": {
              "fillmode": "overlay",
              "size": 10,
              "solidity": 0.2
             }
            },
            "type": "barpolar"
           }
          ],
          "carpet": [
           {
            "aaxis": {
             "endlinecolor": "#2a3f5f",
             "gridcolor": "white",
             "linecolor": "white",
             "minorgridcolor": "white",
             "startlinecolor": "#2a3f5f"
            },
            "baxis": {
             "endlinecolor": "#2a3f5f",
             "gridcolor": "white",
             "linecolor": "white",
             "minorgridcolor": "white",
             "startlinecolor": "#2a3f5f"
            },
            "type": "carpet"
           }
          ],
          "choropleth": [
           {
            "colorbar": {
             "outlinewidth": 0,
             "ticks": ""
            },
            "type": "choropleth"
           }
          ],
          "contour": [
           {
            "colorbar": {
             "outlinewidth": 0,
             "ticks": ""
            },
            "colorscale": [
             [
              0,
              "#0d0887"
             ],
             [
              0.1111111111111111,
              "#46039f"
             ],
             [
              0.2222222222222222,
              "#7201a8"
             ],
             [
              0.3333333333333333,
              "#9c179e"
             ],
             [
              0.4444444444444444,
              "#bd3786"
             ],
             [
              0.5555555555555556,
              "#d8576b"
             ],
             [
              0.6666666666666666,
              "#ed7953"
             ],
             [
              0.7777777777777778,
              "#fb9f3a"
             ],
             [
              0.8888888888888888,
              "#fdca26"
             ],
             [
              1,
              "#f0f921"
             ]
            ],
            "type": "contour"
           }
          ],
          "contourcarpet": [
           {
            "colorbar": {
             "outlinewidth": 0,
             "ticks": ""
            },
            "type": "contourcarpet"
           }
          ],
          "heatmap": [
           {
            "colorbar": {
             "outlinewidth": 0,
             "ticks": ""
            },
            "colorscale": [
             [
              0,
              "#0d0887"
             ],
             [
              0.1111111111111111,
              "#46039f"
             ],
             [
              0.2222222222222222,
              "#7201a8"
             ],
             [
              0.3333333333333333,
              "#9c179e"
             ],
             [
              0.4444444444444444,
              "#bd3786"
             ],
             [
              0.5555555555555556,
              "#d8576b"
             ],
             [
              0.6666666666666666,
              "#ed7953"
             ],
             [
              0.7777777777777778,
              "#fb9f3a"
             ],
             [
              0.8888888888888888,
              "#fdca26"
             ],
             [
              1,
              "#f0f921"
             ]
            ],
            "type": "heatmap"
           }
          ],
          "heatmapgl": [
           {
            "colorbar": {
             "outlinewidth": 0,
             "ticks": ""
            },
            "colorscale": [
             [
              0,
              "#0d0887"
             ],
             [
              0.1111111111111111,
              "#46039f"
             ],
             [
              0.2222222222222222,
              "#7201a8"
             ],
             [
              0.3333333333333333,
              "#9c179e"
             ],
             [
              0.4444444444444444,
              "#bd3786"
             ],
             [
              0.5555555555555556,
              "#d8576b"
             ],
             [
              0.6666666666666666,
              "#ed7953"
             ],
             [
              0.7777777777777778,
              "#fb9f3a"
             ],
             [
              0.8888888888888888,
              "#fdca26"
             ],
             [
              1,
              "#f0f921"
             ]
            ],
            "type": "heatmapgl"
           }
          ],
          "histogram": [
           {
            "marker": {
             "pattern": {
              "fillmode": "overlay",
              "size": 10,
              "solidity": 0.2
             }
            },
            "type": "histogram"
           }
          ],
          "histogram2d": [
           {
            "colorbar": {
             "outlinewidth": 0,
             "ticks": ""
            },
            "colorscale": [
             [
              0,
              "#0d0887"
             ],
             [
              0.1111111111111111,
              "#46039f"
             ],
             [
              0.2222222222222222,
              "#7201a8"
             ],
             [
              0.3333333333333333,
              "#9c179e"
             ],
             [
              0.4444444444444444,
              "#bd3786"
             ],
             [
              0.5555555555555556,
              "#d8576b"
             ],
             [
              0.6666666666666666,
              "#ed7953"
             ],
             [
              0.7777777777777778,
              "#fb9f3a"
             ],
             [
              0.8888888888888888,
              "#fdca26"
             ],
             [
              1,
              "#f0f921"
             ]
            ],
            "type": "histogram2d"
           }
          ],
          "histogram2dcontour": [
           {
            "colorbar": {
             "outlinewidth": 0,
             "ticks": ""
            },
            "colorscale": [
             [
              0,
              "#0d0887"
             ],
             [
              0.1111111111111111,
              "#46039f"
             ],
             [
              0.2222222222222222,
              "#7201a8"
             ],
             [
              0.3333333333333333,
              "#9c179e"
             ],
             [
              0.4444444444444444,
              "#bd3786"
             ],
             [
              0.5555555555555556,
              "#d8576b"
             ],
             [
              0.6666666666666666,
              "#ed7953"
             ],
             [
              0.7777777777777778,
              "#fb9f3a"
             ],
             [
              0.8888888888888888,
              "#fdca26"
             ],
             [
              1,
              "#f0f921"
             ]
            ],
            "type": "histogram2dcontour"
           }
          ],
          "mesh3d": [
           {
            "colorbar": {
             "outlinewidth": 0,
             "ticks": ""
            },
            "type": "mesh3d"
           }
          ],
          "parcoords": [
           {
            "line": {
             "colorbar": {
              "outlinewidth": 0,
              "ticks": ""
             }
            },
            "type": "parcoords"
           }
          ],
          "pie": [
           {
            "automargin": true,
            "type": "pie"
           }
          ],
          "scatter": [
           {
            "fillpattern": {
             "fillmode": "overlay",
             "size": 10,
             "solidity": 0.2
            },
            "type": "scatter"
           }
          ],
          "scatter3d": [
           {
            "line": {
             "colorbar": {
              "outlinewidth": 0,
              "ticks": ""
             }
            },
            "marker": {
             "colorbar": {
              "outlinewidth": 0,
              "ticks": ""
             }
            },
            "type": "scatter3d"
           }
          ],
          "scattercarpet": [
           {
            "marker": {
             "colorbar": {
              "outlinewidth": 0,
              "ticks": ""
             }
            },
            "type": "scattercarpet"
           }
          ],
          "scattergeo": [
           {
            "marker": {
             "colorbar": {
              "outlinewidth": 0,
              "ticks": ""
             }
            },
            "type": "scattergeo"
           }
          ],
          "scattergl": [
           {
            "marker": {
             "colorbar": {
              "outlinewidth": 0,
              "ticks": ""
             }
            },
            "type": "scattergl"
           }
          ],
          "scattermapbox": [
           {
            "marker": {
             "colorbar": {
              "outlinewidth": 0,
              "ticks": ""
             }
            },
            "type": "scattermapbox"
           }
          ],
          "scatterpolar": [
           {
            "marker": {
             "colorbar": {
              "outlinewidth": 0,
              "ticks": ""
             }
            },
            "type": "scatterpolar"
           }
          ],
          "scatterpolargl": [
           {
            "marker": {
             "colorbar": {
              "outlinewidth": 0,
              "ticks": ""
             }
            },
            "type": "scatterpolargl"
           }
          ],
          "scatterternary": [
           {
            "marker": {
             "colorbar": {
              "outlinewidth": 0,
              "ticks": ""
             }
            },
            "type": "scatterternary"
           }
          ],
          "surface": [
           {
            "colorbar": {
             "outlinewidth": 0,
             "ticks": ""
            },
            "colorscale": [
             [
              0,
              "#0d0887"
             ],
             [
              0.1111111111111111,
              "#46039f"
             ],
             [
              0.2222222222222222,
              "#7201a8"
             ],
             [
              0.3333333333333333,
              "#9c179e"
             ],
             [
              0.4444444444444444,
              "#bd3786"
             ],
             [
              0.5555555555555556,
              "#d8576b"
             ],
             [
              0.6666666666666666,
              "#ed7953"
             ],
             [
              0.7777777777777778,
              "#fb9f3a"
             ],
             [
              0.8888888888888888,
              "#fdca26"
             ],
             [
              1,
              "#f0f921"
             ]
            ],
            "type": "surface"
           }
          ],
          "table": [
           {
            "cells": {
             "fill": {
              "color": "#EBF0F8"
             },
             "line": {
              "color": "white"
             }
            },
            "header": {
             "fill": {
              "color": "#C8D4E3"
             },
             "line": {
              "color": "white"
             }
            },
            "type": "table"
           }
          ]
         },
         "layout": {
          "annotationdefaults": {
           "arrowcolor": "#2a3f5f",
           "arrowhead": 0,
           "arrowwidth": 1
          },
          "autotypenumbers": "strict",
          "coloraxis": {
           "colorbar": {
            "outlinewidth": 0,
            "ticks": ""
           }
          },
          "colorscale": {
           "diverging": [
            [
             0,
             "#8e0152"
            ],
            [
             0.1,
             "#c51b7d"
            ],
            [
             0.2,
             "#de77ae"
            ],
            [
             0.3,
             "#f1b6da"
            ],
            [
             0.4,
             "#fde0ef"
            ],
            [
             0.5,
             "#f7f7f7"
            ],
            [
             0.6,
             "#e6f5d0"
            ],
            [
             0.7,
             "#b8e186"
            ],
            [
             0.8,
             "#7fbc41"
            ],
            [
             0.9,
             "#4d9221"
            ],
            [
             1,
             "#276419"
            ]
           ],
           "sequential": [
            [
             0,
             "#0d0887"
            ],
            [
             0.1111111111111111,
             "#46039f"
            ],
            [
             0.2222222222222222,
             "#7201a8"
            ],
            [
             0.3333333333333333,
             "#9c179e"
            ],
            [
             0.4444444444444444,
             "#bd3786"
            ],
            [
             0.5555555555555556,
             "#d8576b"
            ],
            [
             0.6666666666666666,
             "#ed7953"
            ],
            [
             0.7777777777777778,
             "#fb9f3a"
            ],
            [
             0.8888888888888888,
             "#fdca26"
            ],
            [
             1,
             "#f0f921"
            ]
           ],
           "sequentialminus": [
            [
             0,
             "#0d0887"
            ],
            [
             0.1111111111111111,
             "#46039f"
            ],
            [
             0.2222222222222222,
             "#7201a8"
            ],
            [
             0.3333333333333333,
             "#9c179e"
            ],
            [
             0.4444444444444444,
             "#bd3786"
            ],
            [
             0.5555555555555556,
             "#d8576b"
            ],
            [
             0.6666666666666666,
             "#ed7953"
            ],
            [
             0.7777777777777778,
             "#fb9f3a"
            ],
            [
             0.8888888888888888,
             "#fdca26"
            ],
            [
             1,
             "#f0f921"
            ]
           ]
          },
          "colorway": [
           "#636efa",
           "#EF553B",
           "#00cc96",
           "#ab63fa",
           "#FFA15A",
           "#19d3f3",
           "#FF6692",
           "#B6E880",
           "#FF97FF",
           "#FECB52"
          ],
          "font": {
           "color": "#2a3f5f"
          },
          "geo": {
           "bgcolor": "white",
           "lakecolor": "white",
           "landcolor": "#E5ECF6",
           "showlakes": true,
           "showland": true,
           "subunitcolor": "white"
          },
          "hoverlabel": {
           "align": "left"
          },
          "hovermode": "closest",
          "mapbox": {
           "style": "light"
          },
          "paper_bgcolor": "white",
          "plot_bgcolor": "#E5ECF6",
          "polar": {
           "angularaxis": {
            "gridcolor": "white",
            "linecolor": "white",
            "ticks": ""
           },
           "bgcolor": "#E5ECF6",
           "radialaxis": {
            "gridcolor": "white",
            "linecolor": "white",
            "ticks": ""
           }
          },
          "scene": {
           "xaxis": {
            "backgroundcolor": "#E5ECF6",
            "gridcolor": "white",
            "gridwidth": 2,
            "linecolor": "white",
            "showbackground": true,
            "ticks": "",
            "zerolinecolor": "white"
           },
           "yaxis": {
            "backgroundcolor": "#E5ECF6",
            "gridcolor": "white",
            "gridwidth": 2,
            "linecolor": "white",
            "showbackground": true,
            "ticks": "",
            "zerolinecolor": "white"
           },
           "zaxis": {
            "backgroundcolor": "#E5ECF6",
            "gridcolor": "white",
            "gridwidth": 2,
            "linecolor": "white",
            "showbackground": true,
            "ticks": "",
            "zerolinecolor": "white"
           }
          },
          "shapedefaults": {
           "line": {
            "color": "#2a3f5f"
           }
          },
          "ternary": {
           "aaxis": {
            "gridcolor": "white",
            "linecolor": "white",
            "ticks": ""
           },
           "baxis": {
            "gridcolor": "white",
            "linecolor": "white",
            "ticks": ""
           },
           "bgcolor": "#E5ECF6",
           "caxis": {
            "gridcolor": "white",
            "linecolor": "white",
            "ticks": ""
           }
          },
          "title": {
           "x": 0.05
          },
          "xaxis": {
           "automargin": true,
           "gridcolor": "white",
           "linecolor": "white",
           "ticks": "",
           "title": {
            "standoff": 15
           },
           "zerolinecolor": "white",
           "zerolinewidth": 2
          },
          "yaxis": {
           "automargin": true,
           "gridcolor": "white",
           "linecolor": "white",
           "ticks": "",
           "title": {
            "standoff": 15
           },
           "zerolinecolor": "white",
           "zerolinewidth": 2
          }
         }
        }
       }
      },
      "text/html": [
       "<div>                            <div id=\"c47765a7-64db-4952-9609-2820946836f2\" class=\"plotly-graph-div\" style=\"height:525px; width:100%;\"></div>            <script type=\"text/javascript\">                require([\"plotly\"], function(Plotly) {                    window.PLOTLYENV=window.PLOTLYENV || {};                                    if (document.getElementById(\"c47765a7-64db-4952-9609-2820946836f2\")) {                    Plotly.newPlot(                        \"c47765a7-64db-4952-9609-2820946836f2\",                        [{\"branchvalues\":\"total\",\"customdata\":[[\"\\u043c\\u0438\\u043b\\u044f\"],[\"\\u043d\\u0430\\u0447\\u0430\\u043b\\u043e\"],[\"\\u043e\\u0441\\u0442\\u0440\\u043e\\u0432\"],[\"\\u043f\\u0440\\u043e\\u043a\\u043b\\u044f\\u0442\\u044b\\u0439\"],[\"\\u0434\\u0436\\u0435\\u043d\\u0442\\u043b\\u044c\\u043c\\u0435\\u043d\"],[\"\\u0441\\u043e\\u0432\\u0435\\u0441\\u0442\\u044c\"],[\"\\u0441\\u043e\\u043e\\u0431\\u0440\\u0430\\u0436\\u0435\\u043d\\u0438\\u0435\"],[\"\\u0444\\u0438\\u043b\\u044c\\u043c\"],[\"\\u0447\\u0435\\u043b\\u043e\\u0432\\u0435\\u043a\"],[\"\\u0430\\u0434\\u0430\\u043b\\u0438\\u043d\"],[\"\\u0432\\u0441\\u0451\"],[\"\\u0432\\u043e\\u043b\\u043a\"],[\"\\u0432\\u0435\\u043a\"],[\"\\u0432\\u043b\\u0430\\u0441\\u0442\\u0435\\u043b\\u0438\\u043d\"],[\"\\u0434\\u043d\\u0435\\u0432\\u043d\\u0438\\u043a\"],[\"\\u0437\\u0435\\u043b\\u0451\\u043d\\u044b\\u0439\"],[\"\\u0438\\u0433\\u0440\\u0430\"],[\"\\u0438\\u043d\\u0442\\u0435\\u0440\\u0441\\u0442\\u0435\\u043b\\u043b\\u0430\\u0440\\u0430\"],[\"\\u0433\\u0430\\u043c\\u043f\\u0430\"],[\"\\u0433\\u043e\\u0440\\u0434\\u043e\\u0441\\u0442\\u044c\"]],\"domain\":{\"x\":[0.0,1.0],\"y\":[0.0,1.0]},\"hovertemplate\":\"labels=%{label}<br>count=%{value}<br>parent=%{parent}<br>id=%{id}<br>film=%{customdata[0]}<extra></extra>\",\"ids\":[\"\\u043c\\u0438\\u043b\\u044f\",\"\\u043d\\u0430\\u0447\\u0430\\u043b\\u043e\",\"\\u043e\\u0441\\u0442\\u0440\\u043e\\u0432\",\"\\u043f\\u0440\\u043e\\u043a\\u043b\\u044f\\u0442\\u044b\\u0439\",\"\\u0434\\u0436\\u0435\\u043d\\u0442\\u043b\\u044c\\u043c\\u0435\\u043d\",\"\\u0441\\u043e\\u0432\\u0435\\u0441\\u0442\\u044c\",\"\\u0441\\u043e\\u043e\\u0431\\u0440\\u0430\\u0436\\u0435\\u043d\\u0438\\u0435\",\"\\u0444\\u0438\\u043b\\u044c\\u043c\",\"\\u0447\\u0435\\u043b\\u043e\\u0432\\u0435\\u043a\",\"\\u0430\\u0434\\u0430\\u043b\\u0438\\u043d\",\"\\u0432\\u0441\\u0451\",\"\\u0432\\u043e\\u043b\\u043a\",\"\\u0432\\u0435\\u043a\",\"\\u0432\\u043b\\u0430\\u0441\\u0442\\u0435\\u043b\\u0438\\u043d\",\"\\u0434\\u043d\\u0435\\u0432\\u043d\\u0438\\u043a\",\"\\u0437\\u0435\\u043b\\u0451\\u043d\\u044b\\u0439\",\"\\u0438\\u0433\\u0440\\u0430\",\"\\u0438\\u043d\\u0442\\u0435\\u0440\\u0441\\u0442\\u0435\\u043b\\u043b\\u0430\\u0440\\u0430\",\"\\u0433\\u0430\\u043c\\u043f\\u0430\",\"\\u0433\\u043e\\u0440\\u0434\\u043e\\u0441\\u0442\\u044c\"],\"labels\":[\"\\u043c\\u0438\\u043b\\u044f\",\"\\u043d\\u0430\\u0447\\u0430\\u043b\\u043e\",\"\\u043e\\u0441\\u0442\\u0440\\u043e\\u0432\",\"\\u043f\\u0440\\u043e\\u043a\\u043b\\u044f\\u0442\\u044b\\u0439\",\"\\u0434\\u0436\\u0435\\u043d\\u0442\\u043b\\u044c\\u043c\\u0435\\u043d\",\"\\u0441\\u043e\\u0432\\u0435\\u0441\\u0442\\u044c\",\"\\u0441\\u043e\\u043e\\u0431\\u0440\\u0430\\u0436\\u0435\\u043d\\u0438\\u0435\",\"\\u0444\\u0438\\u043b\\u044c\\u043c\",\"\\u0447\\u0435\\u043b\\u043e\\u0432\\u0435\\u043a\",\"\\u0430\\u0434\\u0430\\u043b\\u0438\\u043d\",\"\\u0432\\u0441\\u0451\",\"\\u0432\\u043e\\u043b\\u043a\",\"\\u0432\\u0435\\u043a\",\"\\u0432\\u043b\\u0430\\u0441\\u0442\\u0435\\u043b\\u0438\\u043d\",\"\\u0434\\u043d\\u0435\\u0432\\u043d\\u0438\\u043a\",\"\\u0437\\u0435\\u043b\\u0451\\u043d\\u044b\\u0439\",\"\\u0438\\u0433\\u0440\\u0430\",\"\\u0438\\u043d\\u0442\\u0435\\u0440\\u0441\\u0442\\u0435\\u043b\\u043b\\u0430\\u0440\\u0430\",\"\\u0433\\u0430\\u043c\\u043f\\u0430\",\"\\u0433\\u043e\\u0440\\u0434\\u043e\\u0441\\u0442\\u044c\"],\"marker\":{\"colors\":[\"#636efa\",\"#EF553B\",\"#00cc96\",\"#ab63fa\",\"#FFA15A\",\"#19d3f3\",\"#FF6692\",\"#B6E880\",\"#FF97FF\",\"#FECB52\",\"#636efa\",\"#EF553B\",\"#00cc96\",\"#ab63fa\",\"#FFA15A\",\"#19d3f3\",\"#FF6692\",\"#B6E880\",\"#FF97FF\",\"#FECB52\"]},\"name\":\"\",\"parents\":[\"\",\"\",\"\",\"\",\"\",\"\",\"\",\"\",\"\",\"\",\"\",\"\",\"\",\"\",\"\",\"\",\"\",\"\",\"\",\"\"],\"values\":[10,10,4,4,3,4,4,5,5,3,4,3,3,3,3,12,5,7,3,3],\"type\":\"treemap\"}],                        {\"template\":{\"data\":{\"histogram2dcontour\":[{\"type\":\"histogram2dcontour\",\"colorbar\":{\"outlinewidth\":0,\"ticks\":\"\"},\"colorscale\":[[0.0,\"#0d0887\"],[0.1111111111111111,\"#46039f\"],[0.2222222222222222,\"#7201a8\"],[0.3333333333333333,\"#9c179e\"],[0.4444444444444444,\"#bd3786\"],[0.5555555555555556,\"#d8576b\"],[0.6666666666666666,\"#ed7953\"],[0.7777777777777778,\"#fb9f3a\"],[0.8888888888888888,\"#fdca26\"],[1.0,\"#f0f921\"]]}],\"choropleth\":[{\"type\":\"choropleth\",\"colorbar\":{\"outlinewidth\":0,\"ticks\":\"\"}}],\"histogram2d\":[{\"type\":\"histogram2d\",\"colorbar\":{\"outlinewidth\":0,\"ticks\":\"\"},\"colorscale\":[[0.0,\"#0d0887\"],[0.1111111111111111,\"#46039f\"],[0.2222222222222222,\"#7201a8\"],[0.3333333333333333,\"#9c179e\"],[0.4444444444444444,\"#bd3786\"],[0.5555555555555556,\"#d8576b\"],[0.6666666666666666,\"#ed7953\"],[0.7777777777777778,\"#fb9f3a\"],[0.8888888888888888,\"#fdca26\"],[1.0,\"#f0f921\"]]}],\"heatmap\":[{\"type\":\"heatmap\",\"colorbar\":{\"outlinewidth\":0,\"ticks\":\"\"},\"colorscale\":[[0.0,\"#0d0887\"],[0.1111111111111111,\"#46039f\"],[0.2222222222222222,\"#7201a8\"],[0.3333333333333333,\"#9c179e\"],[0.4444444444444444,\"#bd3786\"],[0.5555555555555556,\"#d8576b\"],[0.6666666666666666,\"#ed7953\"],[0.7777777777777778,\"#fb9f3a\"],[0.8888888888888888,\"#fdca26\"],[1.0,\"#f0f921\"]]}],\"heatmapgl\":[{\"type\":\"heatmapgl\",\"colorbar\":{\"outlinewidth\":0,\"ticks\":\"\"},\"colorscale\":[[0.0,\"#0d0887\"],[0.1111111111111111,\"#46039f\"],[0.2222222222222222,\"#7201a8\"],[0.3333333333333333,\"#9c179e\"],[0.4444444444444444,\"#bd3786\"],[0.5555555555555556,\"#d8576b\"],[0.6666666666666666,\"#ed7953\"],[0.7777777777777778,\"#fb9f3a\"],[0.8888888888888888,\"#fdca26\"],[1.0,\"#f0f921\"]]}],\"contourcarpet\":[{\"type\":\"contourcarpet\",\"colorbar\":{\"outlinewidth\":0,\"ticks\":\"\"}}],\"contour\":[{\"type\":\"contour\",\"colorbar\":{\"outlinewidth\":0,\"ticks\":\"\"},\"colorscale\":[[0.0,\"#0d0887\"],[0.1111111111111111,\"#46039f\"],[0.2222222222222222,\"#7201a8\"],[0.3333333333333333,\"#9c179e\"],[0.4444444444444444,\"#bd3786\"],[0.5555555555555556,\"#d8576b\"],[0.6666666666666666,\"#ed7953\"],[0.7777777777777778,\"#fb9f3a\"],[0.8888888888888888,\"#fdca26\"],[1.0,\"#f0f921\"]]}],\"surface\":[{\"type\":\"surface\",\"colorbar\":{\"outlinewidth\":0,\"ticks\":\"\"},\"colorscale\":[[0.0,\"#0d0887\"],[0.1111111111111111,\"#46039f\"],[0.2222222222222222,\"#7201a8\"],[0.3333333333333333,\"#9c179e\"],[0.4444444444444444,\"#bd3786\"],[0.5555555555555556,\"#d8576b\"],[0.6666666666666666,\"#ed7953\"],[0.7777777777777778,\"#fb9f3a\"],[0.8888888888888888,\"#fdca26\"],[1.0,\"#f0f921\"]]}],\"mesh3d\":[{\"type\":\"mesh3d\",\"colorbar\":{\"outlinewidth\":0,\"ticks\":\"\"}}],\"scatter\":[{\"fillpattern\":{\"fillmode\":\"overlay\",\"size\":10,\"solidity\":0.2},\"type\":\"scatter\"}],\"parcoords\":[{\"type\":\"parcoords\",\"line\":{\"colorbar\":{\"outlinewidth\":0,\"ticks\":\"\"}}}],\"scatterpolargl\":[{\"type\":\"scatterpolargl\",\"marker\":{\"colorbar\":{\"outlinewidth\":0,\"ticks\":\"\"}}}],\"bar\":[{\"error_x\":{\"color\":\"#2a3f5f\"},\"error_y\":{\"color\":\"#2a3f5f\"},\"marker\":{\"line\":{\"color\":\"#E5ECF6\",\"width\":0.5},\"pattern\":{\"fillmode\":\"overlay\",\"size\":10,\"solidity\":0.2}},\"type\":\"bar\"}],\"scattergeo\":[{\"type\":\"scattergeo\",\"marker\":{\"colorbar\":{\"outlinewidth\":0,\"ticks\":\"\"}}}],\"scatterpolar\":[{\"type\":\"scatterpolar\",\"marker\":{\"colorbar\":{\"outlinewidth\":0,\"ticks\":\"\"}}}],\"histogram\":[{\"marker\":{\"pattern\":{\"fillmode\":\"overlay\",\"size\":10,\"solidity\":0.2}},\"type\":\"histogram\"}],\"scattergl\":[{\"type\":\"scattergl\",\"marker\":{\"colorbar\":{\"outlinewidth\":0,\"ticks\":\"\"}}}],\"scatter3d\":[{\"type\":\"scatter3d\",\"line\":{\"colorbar\":{\"outlinewidth\":0,\"ticks\":\"\"}},\"marker\":{\"colorbar\":{\"outlinewidth\":0,\"ticks\":\"\"}}}],\"scattermapbox\":[{\"type\":\"scattermapbox\",\"marker\":{\"colorbar\":{\"outlinewidth\":0,\"ticks\":\"\"}}}],\"scatterternary\":[{\"type\":\"scatterternary\",\"marker\":{\"colorbar\":{\"outlinewidth\":0,\"ticks\":\"\"}}}],\"scattercarpet\":[{\"type\":\"scattercarpet\",\"marker\":{\"colorbar\":{\"outlinewidth\":0,\"ticks\":\"\"}}}],\"carpet\":[{\"aaxis\":{\"endlinecolor\":\"#2a3f5f\",\"gridcolor\":\"white\",\"linecolor\":\"white\",\"minorgridcolor\":\"white\",\"startlinecolor\":\"#2a3f5f\"},\"baxis\":{\"endlinecolor\":\"#2a3f5f\",\"gridcolor\":\"white\",\"linecolor\":\"white\",\"minorgridcolor\":\"white\",\"startlinecolor\":\"#2a3f5f\"},\"type\":\"carpet\"}],\"table\":[{\"cells\":{\"fill\":{\"color\":\"#EBF0F8\"},\"line\":{\"color\":\"white\"}},\"header\":{\"fill\":{\"color\":\"#C8D4E3\"},\"line\":{\"color\":\"white\"}},\"type\":\"table\"}],\"barpolar\":[{\"marker\":{\"line\":{\"color\":\"#E5ECF6\",\"width\":0.5},\"pattern\":{\"fillmode\":\"overlay\",\"size\":10,\"solidity\":0.2}},\"type\":\"barpolar\"}],\"pie\":[{\"automargin\":true,\"type\":\"pie\"}]},\"layout\":{\"autotypenumbers\":\"strict\",\"colorway\":[\"#636efa\",\"#EF553B\",\"#00cc96\",\"#ab63fa\",\"#FFA15A\",\"#19d3f3\",\"#FF6692\",\"#B6E880\",\"#FF97FF\",\"#FECB52\"],\"font\":{\"color\":\"#2a3f5f\"},\"hovermode\":\"closest\",\"hoverlabel\":{\"align\":\"left\"},\"paper_bgcolor\":\"white\",\"plot_bgcolor\":\"#E5ECF6\",\"polar\":{\"bgcolor\":\"#E5ECF6\",\"angularaxis\":{\"gridcolor\":\"white\",\"linecolor\":\"white\",\"ticks\":\"\"},\"radialaxis\":{\"gridcolor\":\"white\",\"linecolor\":\"white\",\"ticks\":\"\"}},\"ternary\":{\"bgcolor\":\"#E5ECF6\",\"aaxis\":{\"gridcolor\":\"white\",\"linecolor\":\"white\",\"ticks\":\"\"},\"baxis\":{\"gridcolor\":\"white\",\"linecolor\":\"white\",\"ticks\":\"\"},\"caxis\":{\"gridcolor\":\"white\",\"linecolor\":\"white\",\"ticks\":\"\"}},\"coloraxis\":{\"colorbar\":{\"outlinewidth\":0,\"ticks\":\"\"}},\"colorscale\":{\"sequential\":[[0.0,\"#0d0887\"],[0.1111111111111111,\"#46039f\"],[0.2222222222222222,\"#7201a8\"],[0.3333333333333333,\"#9c179e\"],[0.4444444444444444,\"#bd3786\"],[0.5555555555555556,\"#d8576b\"],[0.6666666666666666,\"#ed7953\"],[0.7777777777777778,\"#fb9f3a\"],[0.8888888888888888,\"#fdca26\"],[1.0,\"#f0f921\"]],\"sequentialminus\":[[0.0,\"#0d0887\"],[0.1111111111111111,\"#46039f\"],[0.2222222222222222,\"#7201a8\"],[0.3333333333333333,\"#9c179e\"],[0.4444444444444444,\"#bd3786\"],[0.5555555555555556,\"#d8576b\"],[0.6666666666666666,\"#ed7953\"],[0.7777777777777778,\"#fb9f3a\"],[0.8888888888888888,\"#fdca26\"],[1.0,\"#f0f921\"]],\"diverging\":[[0,\"#8e0152\"],[0.1,\"#c51b7d\"],[0.2,\"#de77ae\"],[0.3,\"#f1b6da\"],[0.4,\"#fde0ef\"],[0.5,\"#f7f7f7\"],[0.6,\"#e6f5d0\"],[0.7,\"#b8e186\"],[0.8,\"#7fbc41\"],[0.9,\"#4d9221\"],[1,\"#276419\"]]},\"xaxis\":{\"gridcolor\":\"white\",\"linecolor\":\"white\",\"ticks\":\"\",\"title\":{\"standoff\":15},\"zerolinecolor\":\"white\",\"automargin\":true,\"zerolinewidth\":2},\"yaxis\":{\"gridcolor\":\"white\",\"linecolor\":\"white\",\"ticks\":\"\",\"title\":{\"standoff\":15},\"zerolinecolor\":\"white\",\"automargin\":true,\"zerolinewidth\":2},\"scene\":{\"xaxis\":{\"backgroundcolor\":\"#E5ECF6\",\"gridcolor\":\"white\",\"linecolor\":\"white\",\"showbackground\":true,\"ticks\":\"\",\"zerolinecolor\":\"white\",\"gridwidth\":2},\"yaxis\":{\"backgroundcolor\":\"#E5ECF6\",\"gridcolor\":\"white\",\"linecolor\":\"white\",\"showbackground\":true,\"ticks\":\"\",\"zerolinecolor\":\"white\",\"gridwidth\":2},\"zaxis\":{\"backgroundcolor\":\"#E5ECF6\",\"gridcolor\":\"white\",\"linecolor\":\"white\",\"showbackground\":true,\"ticks\":\"\",\"zerolinecolor\":\"white\",\"gridwidth\":2}},\"shapedefaults\":{\"line\":{\"color\":\"#2a3f5f\"}},\"annotationdefaults\":{\"arrowcolor\":\"#2a3f5f\",\"arrowhead\":0,\"arrowwidth\":1},\"geo\":{\"bgcolor\":\"white\",\"landcolor\":\"#E5ECF6\",\"subunitcolor\":\"white\",\"showland\":true,\"showlakes\":true,\"lakecolor\":\"white\"},\"title\":{\"x\":0.05},\"mapbox\":{\"style\":\"light\"}}},\"legend\":{\"tracegroupgap\":0},\"margin\":{\"t\":60}},                        {\"responsive\": true}                    ).then(function(){\n",
       "                            \n",
       "var gd = document.getElementById('c47765a7-64db-4952-9609-2820946836f2');\n",
       "var x = new MutationObserver(function (mutations, observer) {{\n",
       "        var display = window.getComputedStyle(gd).display;\n",
       "        if (!display || display === 'none') {{\n",
       "            console.log([gd, 'removed!']);\n",
       "            Plotly.purge(gd);\n",
       "            observer.disconnect();\n",
       "        }}\n",
       "}});\n",
       "\n",
       "// Listen for the removal of the full notebook cells\n",
       "var notebookContainer = gd.closest('#notebook-container');\n",
       "if (notebookContainer) {{\n",
       "    x.observe(notebookContainer, {childList: true});\n",
       "}}\n",
       "\n",
       "// Listen for the clearing of the current output cell\n",
       "var outputEl = gd.closest('.output');\n",
       "if (outputEl) {{\n",
       "    x.observe(outputEl, {childList: true});\n",
       "}}\n",
       "\n",
       "                        })                };                });            </script>        </div>"
      ]
     },
     "metadata": {},
     "output_type": "display_data"
    }
   ],
   "source": [
    "#treepmap по фильмам\n",
    "fig = px.treemap(dfilm, path=['film'], values='count', color='film')\n",
    "fig.show()"
   ]
  },
  {
   "cell_type": "code",
   "execution_count": 37,
   "id": "c393f1ef",
   "metadata": {},
   "outputs": [],
   "source": [
    "word_cloud_expectation = ' '.join(map(str,token_func(words_expectation,'words_expectation')))# по ожиданию\n"
   ]
  },
  {
   "cell_type": "code",
   "execution_count": 38,
   "id": "43a403e7",
   "metadata": {},
   "outputs": [
    {
     "data": {
      "image/png": "[encoded data removed]",
      "text/plain": [
       "<Figure size 936x720 with 1 Axes>"
      ]
     },
     "metadata": {
      "needs_background": "light"
     },
     "output_type": "display_data"
    }
   ],
   "source": [
    "wordcloud = WordCloud(background_color = 'white', # цвет фона\n",
    "                               max_words = 500, # максимальное количество слов\n",
    "                               max_font_size = 50, # отображать максимальное значение шрифта\n",
    "                               random_state = 1, # возвращает цвет PIL для каждого слова\n",
    "                               margin=5,\n",
    "                               collocations = False).generate(word_cloud_expectation)#collocations убрала повтор слов из облака\n",
    "plt.imshow(wordcloud, interpolation=\"bilinear\")\n",
    "plt.axis(\"off\");"
   ]
  },
  {
   "cell_type": "code",
   "execution_count": null,
   "id": "f328edc9",
   "metadata": {},
   "outputs": [],
   "source": []
  }
 ],
 "metadata": {
  "kernelspec": {
   "display_name": "Python 3",
   "language": "python",
   "name": "python3"
  },
  "language_info": {
   "codemirror_mode": {
    "name": "ipython",
    "version": 3
   },
   "file_extension": ".py",
   "mimetype": "text/x-python",
   "name": "python",
   "nbconvert_exporter": "python",
   "pygments_lexer": "ipython3",
   "version": "3.8.8"
  }
 },
 "nbformat": 4,
 "nbformat_minor": 5
}
